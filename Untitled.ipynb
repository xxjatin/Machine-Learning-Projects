{
 "cells": [
  {
   "cell_type": "code",
   "execution_count": 20,
   "id": "d4f74215",
   "metadata": {
    "tags": []
   },
   "outputs": [],
   "source": [
    "# Import libraries \n",
    "import pandas as pd  # Importing pandas library and aliasing it as pd\n",
    "import matplotlib.pyplot as plt  # Importing matplotlib's pyplot module and aliasing it as plt\n",
    "import numpy as np  # Importing numpy library and aliasing it as np\n",
    "import seaborn as sns  # Importing seaborn library and aliasing it as sns"
   ]
  },
  {
   "cell_type": "code",
   "execution_count": 22,
   "id": "a908c5f1",
   "metadata": {
    "tags": []
   },
   "outputs": [],
   "source": [
    "# Load training data from CSV files into pandas DataFrames\n",
    "X_train = pd.read_csv('X_train.csv')\n",
    "y_train = pd.read_csv('y_train.csv')\n",
    "\n",
    "# Load test data from CSV file into a pandas DataFrame\n",
    "X_test = pd.read_csv('X_test.csv')"
   ]
  },
  {
   "cell_type": "code",
   "execution_count": 82,
   "id": "8a3568f3",
   "metadata": {
    "tags": []
   },
   "outputs": [
    {
     "data": {
      "text/plain": [
       "(21776590, 11)"
      ]
     },
     "execution_count": 82,
     "metadata": {},
     "output_type": "execute_result"
    }
   ],
   "source": [
    "# Display the shape of the training data\n",
    "X_train.shape"
   ]
  },
  {
   "cell_type": "code",
   "execution_count": 84,
   "id": "02356dc3",
   "metadata": {
    "tags": []
   },
   "outputs": [
    {
     "data": {
      "text/plain": [
       "(4532489, 10)"
      ]
     },
     "execution_count": 84,
     "metadata": {},
     "output_type": "execute_result"
    }
   ],
   "source": [
    "# Check the shape of the X_test dataset\n",
    "X_test.shape"
   ]
  },
  {
   "cell_type": "code",
   "execution_count": 86,
   "id": "3030c52f",
   "metadata": {
    "tags": []
   },
   "outputs": [
    {
     "data": {
      "text/plain": [
       "(21776590, 2)"
      ]
     },
     "execution_count": 86,
     "metadata": {},
     "output_type": "execute_result"
    }
   ],
   "source": [
    "# Display the shape of the y_train array\n",
    "y_train.shape"
   ]
  },
  {
   "cell_type": "code",
   "execution_count": 88,
   "id": "ab46c320",
   "metadata": {
    "tags": []
   },
   "outputs": [
    {
     "data": {
      "text/html": [
       "<div>\n",
       "<style scoped>\n",
       "    .dataframe tbody tr th:only-of-type {\n",
       "        vertical-align: middle;\n",
       "    }\n",
       "\n",
       "    .dataframe tbody tr th {\n",
       "        vertical-align: top;\n",
       "    }\n",
       "\n",
       "    .dataframe thead th {\n",
       "        text-align: right;\n",
       "    }\n",
       "</style>\n",
       "<table border=\"1\" class=\"dataframe\">\n",
       "  <thead>\n",
       "    <tr style=\"text-align: right;\">\n",
       "      <th></th>\n",
       "      <th>Unnamed: 0</th>\n",
       "      <th>f1</th>\n",
       "      <th>f2</th>\n",
       "      <th>f3</th>\n",
       "      <th>f4</th>\n",
       "      <th>f5</th>\n",
       "      <th>f6</th>\n",
       "      <th>f7</th>\n",
       "      <th>f8</th>\n",
       "      <th>f9</th>\n",
       "      <th>f10</th>\n",
       "    </tr>\n",
       "  </thead>\n",
       "  <tbody>\n",
       "    <tr>\n",
       "      <th>0</th>\n",
       "      <td>0</td>\n",
       "      <td>2020-12-31 09:46:17.463002+00:00</td>\n",
       "      <td>x</td>\n",
       "      <td>y</td>\n",
       "      <td>2021-01-10 05:00:00+00:00</td>\n",
       "      <td>2021-01-10 07:00:00+00:00</td>\n",
       "      <td>gamma</td>\n",
       "      <td>True</td>\n",
       "      <td>0.0</td>\n",
       "      <td>0</td>\n",
       "      <td>c-2</td>\n",
       "    </tr>\n",
       "    <tr>\n",
       "      <th>1</th>\n",
       "      <td>1</td>\n",
       "      <td>2020-12-31 09:46:17.463002+00:00</td>\n",
       "      <td>x</td>\n",
       "      <td>y</td>\n",
       "      <td>2021-01-10 05:00:00+00:00</td>\n",
       "      <td>2021-01-10 07:00:00+00:00</td>\n",
       "      <td>gamma</td>\n",
       "      <td>True</td>\n",
       "      <td>32.0</td>\n",
       "      <td>1</td>\n",
       "      <td>c-2</td>\n",
       "    </tr>\n",
       "    <tr>\n",
       "      <th>2</th>\n",
       "      <td>2</td>\n",
       "      <td>2020-12-31 09:46:17.463002+00:00</td>\n",
       "      <td>x</td>\n",
       "      <td>y</td>\n",
       "      <td>2021-01-10 11:00:00+00:00</td>\n",
       "      <td>2021-01-10 13:00:00+00:00</td>\n",
       "      <td>gamma</td>\n",
       "      <td>True</td>\n",
       "      <td>32.0</td>\n",
       "      <td>1</td>\n",
       "      <td>c-4</td>\n",
       "    </tr>\n",
       "    <tr>\n",
       "      <th>3</th>\n",
       "      <td>3</td>\n",
       "      <td>2020-12-31 09:46:17.463002+00:00</td>\n",
       "      <td>x</td>\n",
       "      <td>y</td>\n",
       "      <td>2021-01-10 11:00:00+00:00</td>\n",
       "      <td>2021-01-10 13:00:00+00:00</td>\n",
       "      <td>gamma</td>\n",
       "      <td>True</td>\n",
       "      <td>32.0</td>\n",
       "      <td>2</td>\n",
       "      <td>c-4</td>\n",
       "    </tr>\n",
       "    <tr>\n",
       "      <th>4</th>\n",
       "      <td>4</td>\n",
       "      <td>2020-12-31 09:46:18.191119+00:00</td>\n",
       "      <td>x</td>\n",
       "      <td>y</td>\n",
       "      <td>2021-01-25 11:00:00+00:00</td>\n",
       "      <td>2021-01-25 12:55:00+00:00</td>\n",
       "      <td>beta</td>\n",
       "      <td>False</td>\n",
       "      <td>20.0</td>\n",
       "      <td>0</td>\n",
       "      <td>b-69</td>\n",
       "    </tr>\n",
       "  </tbody>\n",
       "</table>\n",
       "</div>"
      ],
      "text/plain": [
       "   Unnamed: 0                                f1 f2 f3  \\\n",
       "0           0  2020-12-31 09:46:17.463002+00:00  x  y   \n",
       "1           1  2020-12-31 09:46:17.463002+00:00  x  y   \n",
       "2           2  2020-12-31 09:46:17.463002+00:00  x  y   \n",
       "3           3  2020-12-31 09:46:17.463002+00:00  x  y   \n",
       "4           4  2020-12-31 09:46:18.191119+00:00  x  y   \n",
       "\n",
       "                          f4                         f5     f6     f7    f8  \\\n",
       "0  2021-01-10 05:00:00+00:00  2021-01-10 07:00:00+00:00  gamma   True   0.0   \n",
       "1  2021-01-10 05:00:00+00:00  2021-01-10 07:00:00+00:00  gamma   True  32.0   \n",
       "2  2021-01-10 11:00:00+00:00  2021-01-10 13:00:00+00:00  gamma   True  32.0   \n",
       "3  2021-01-10 11:00:00+00:00  2021-01-10 13:00:00+00:00  gamma   True  32.0   \n",
       "4  2021-01-25 11:00:00+00:00  2021-01-25 12:55:00+00:00   beta  False  20.0   \n",
       "\n",
       "   f9   f10  \n",
       "0   0   c-2  \n",
       "1   1   c-2  \n",
       "2   1   c-4  \n",
       "3   2   c-4  \n",
       "4   0  b-69  "
      ]
     },
     "execution_count": 88,
     "metadata": {},
     "output_type": "execute_result"
    }
   ],
   "source": [
    "# Display the first few rows of the X_train dataframe\n",
    "X_train.head()"
   ]
  },
  {
   "cell_type": "code",
   "execution_count": 90,
   "id": "1a8719be",
   "metadata": {
    "tags": []
   },
   "outputs": [
    {
     "data": {
      "text/html": [
       "<div>\n",
       "<style scoped>\n",
       "    .dataframe tbody tr th:only-of-type {\n",
       "        vertical-align: middle;\n",
       "    }\n",
       "\n",
       "    .dataframe tbody tr th {\n",
       "        vertical-align: top;\n",
       "    }\n",
       "\n",
       "    .dataframe thead th {\n",
       "        text-align: right;\n",
       "    }\n",
       "</style>\n",
       "<table border=\"1\" class=\"dataframe\">\n",
       "  <thead>\n",
       "    <tr style=\"text-align: right;\">\n",
       "      <th></th>\n",
       "      <th>Unnamed: 0</th>\n",
       "      <th>target</th>\n",
       "    </tr>\n",
       "  </thead>\n",
       "  <tbody>\n",
       "    <tr>\n",
       "      <th>0</th>\n",
       "      <td>0</td>\n",
       "      <td>7400.0</td>\n",
       "    </tr>\n",
       "    <tr>\n",
       "      <th>1</th>\n",
       "      <td>1</td>\n",
       "      <td>8650.0</td>\n",
       "    </tr>\n",
       "    <tr>\n",
       "      <th>2</th>\n",
       "      <td>2</td>\n",
       "      <td>9150.0</td>\n",
       "    </tr>\n",
       "    <tr>\n",
       "      <th>3</th>\n",
       "      <td>3</td>\n",
       "      <td>10400.0</td>\n",
       "    </tr>\n",
       "    <tr>\n",
       "      <th>4</th>\n",
       "      <td>4</td>\n",
       "      <td>8697.0</td>\n",
       "    </tr>\n",
       "  </tbody>\n",
       "</table>\n",
       "</div>"
      ],
      "text/plain": [
       "   Unnamed: 0   target\n",
       "0           0   7400.0\n",
       "1           1   8650.0\n",
       "2           2   9150.0\n",
       "3           3  10400.0\n",
       "4           4   8697.0"
      ]
     },
     "execution_count": 90,
     "metadata": {},
     "output_type": "execute_result"
    }
   ],
   "source": [
    "# Display the first few rows of the y_train dataframe\n",
    "y_train.head()"
   ]
  },
  {
   "cell_type": "code",
   "execution_count": 92,
   "id": "6f2bcb70",
   "metadata": {
    "tags": []
   },
   "outputs": [],
   "source": [
    "# merge two dataset to make one\n",
    "df = pd.concat([X_train, y_train], axis = 1) # Horizontal"
   ]
  },
  {
   "cell_type": "code",
   "execution_count": 93,
   "id": "87854b05",
   "metadata": {
    "tags": []
   },
   "outputs": [
    {
     "data": {
      "text/html": [
       "<div>\n",
       "<style scoped>\n",
       "    .dataframe tbody tr th:only-of-type {\n",
       "        vertical-align: middle;\n",
       "    }\n",
       "\n",
       "    .dataframe tbody tr th {\n",
       "        vertical-align: top;\n",
       "    }\n",
       "\n",
       "    .dataframe thead th {\n",
       "        text-align: right;\n",
       "    }\n",
       "</style>\n",
       "<table border=\"1\" class=\"dataframe\">\n",
       "  <thead>\n",
       "    <tr style=\"text-align: right;\">\n",
       "      <th></th>\n",
       "      <th>Unnamed: 0</th>\n",
       "      <th>f1</th>\n",
       "      <th>f2</th>\n",
       "      <th>f3</th>\n",
       "      <th>f4</th>\n",
       "      <th>f5</th>\n",
       "      <th>f6</th>\n",
       "      <th>f7</th>\n",
       "      <th>f8</th>\n",
       "      <th>f9</th>\n",
       "      <th>f10</th>\n",
       "      <th>Unnamed: 0</th>\n",
       "      <th>target</th>\n",
       "    </tr>\n",
       "  </thead>\n",
       "  <tbody>\n",
       "    <tr>\n",
       "      <th>0</th>\n",
       "      <td>0</td>\n",
       "      <td>2020-12-31 09:46:17.463002+00:00</td>\n",
       "      <td>x</td>\n",
       "      <td>y</td>\n",
       "      <td>2021-01-10 05:00:00+00:00</td>\n",
       "      <td>2021-01-10 07:00:00+00:00</td>\n",
       "      <td>gamma</td>\n",
       "      <td>True</td>\n",
       "      <td>0.0</td>\n",
       "      <td>0</td>\n",
       "      <td>c-2</td>\n",
       "      <td>0</td>\n",
       "      <td>7400.0</td>\n",
       "    </tr>\n",
       "    <tr>\n",
       "      <th>1</th>\n",
       "      <td>1</td>\n",
       "      <td>2020-12-31 09:46:17.463002+00:00</td>\n",
       "      <td>x</td>\n",
       "      <td>y</td>\n",
       "      <td>2021-01-10 05:00:00+00:00</td>\n",
       "      <td>2021-01-10 07:00:00+00:00</td>\n",
       "      <td>gamma</td>\n",
       "      <td>True</td>\n",
       "      <td>32.0</td>\n",
       "      <td>1</td>\n",
       "      <td>c-2</td>\n",
       "      <td>1</td>\n",
       "      <td>8650.0</td>\n",
       "    </tr>\n",
       "    <tr>\n",
       "      <th>2</th>\n",
       "      <td>2</td>\n",
       "      <td>2020-12-31 09:46:17.463002+00:00</td>\n",
       "      <td>x</td>\n",
       "      <td>y</td>\n",
       "      <td>2021-01-10 11:00:00+00:00</td>\n",
       "      <td>2021-01-10 13:00:00+00:00</td>\n",
       "      <td>gamma</td>\n",
       "      <td>True</td>\n",
       "      <td>32.0</td>\n",
       "      <td>1</td>\n",
       "      <td>c-4</td>\n",
       "      <td>2</td>\n",
       "      <td>9150.0</td>\n",
       "    </tr>\n",
       "    <tr>\n",
       "      <th>3</th>\n",
       "      <td>3</td>\n",
       "      <td>2020-12-31 09:46:17.463002+00:00</td>\n",
       "      <td>x</td>\n",
       "      <td>y</td>\n",
       "      <td>2021-01-10 11:00:00+00:00</td>\n",
       "      <td>2021-01-10 13:00:00+00:00</td>\n",
       "      <td>gamma</td>\n",
       "      <td>True</td>\n",
       "      <td>32.0</td>\n",
       "      <td>2</td>\n",
       "      <td>c-4</td>\n",
       "      <td>3</td>\n",
       "      <td>10400.0</td>\n",
       "    </tr>\n",
       "    <tr>\n",
       "      <th>4</th>\n",
       "      <td>4</td>\n",
       "      <td>2020-12-31 09:46:18.191119+00:00</td>\n",
       "      <td>x</td>\n",
       "      <td>y</td>\n",
       "      <td>2021-01-25 11:00:00+00:00</td>\n",
       "      <td>2021-01-25 12:55:00+00:00</td>\n",
       "      <td>beta</td>\n",
       "      <td>False</td>\n",
       "      <td>20.0</td>\n",
       "      <td>0</td>\n",
       "      <td>b-69</td>\n",
       "      <td>4</td>\n",
       "      <td>8697.0</td>\n",
       "    </tr>\n",
       "  </tbody>\n",
       "</table>\n",
       "</div>"
      ],
      "text/plain": [
       "   Unnamed: 0                                f1 f2 f3  \\\n",
       "0           0  2020-12-31 09:46:17.463002+00:00  x  y   \n",
       "1           1  2020-12-31 09:46:17.463002+00:00  x  y   \n",
       "2           2  2020-12-31 09:46:17.463002+00:00  x  y   \n",
       "3           3  2020-12-31 09:46:17.463002+00:00  x  y   \n",
       "4           4  2020-12-31 09:46:18.191119+00:00  x  y   \n",
       "\n",
       "                          f4                         f5     f6     f7    f8  \\\n",
       "0  2021-01-10 05:00:00+00:00  2021-01-10 07:00:00+00:00  gamma   True   0.0   \n",
       "1  2021-01-10 05:00:00+00:00  2021-01-10 07:00:00+00:00  gamma   True  32.0   \n",
       "2  2021-01-10 11:00:00+00:00  2021-01-10 13:00:00+00:00  gamma   True  32.0   \n",
       "3  2021-01-10 11:00:00+00:00  2021-01-10 13:00:00+00:00  gamma   True  32.0   \n",
       "4  2021-01-25 11:00:00+00:00  2021-01-25 12:55:00+00:00   beta  False  20.0   \n",
       "\n",
       "   f9   f10  Unnamed: 0   target  \n",
       "0   0   c-2           0   7400.0  \n",
       "1   1   c-2           1   8650.0  \n",
       "2   1   c-4           2   9150.0  \n",
       "3   2   c-4           3  10400.0  \n",
       "4   0  b-69           4   8697.0  "
      ]
     },
     "execution_count": 93,
     "metadata": {},
     "output_type": "execute_result"
    }
   ],
   "source": [
    "# Display the first 5 rows of the dataframe\n",
    "df.head()"
   ]
  },
  {
   "cell_type": "code",
   "execution_count": 94,
   "id": "d42e1964",
   "metadata": {
    "tags": []
   },
   "outputs": [
    {
     "data": {
      "text/plain": [
       "(21776590, 13)"
      ]
     },
     "execution_count": 94,
     "metadata": {},
     "output_type": "execute_result"
    }
   ],
   "source": [
    "# Check the dimensions of the dataframe\n",
    "df.shape"
   ]
  },
  {
   "cell_type": "code",
   "execution_count": 95,
   "id": "3e3e7129",
   "metadata": {
    "tags": []
   },
   "outputs": [],
   "source": [
    "# Randomly sample 5000 rows from the dataframe\n",
    "df = df.sample(5000)"
   ]
  },
  {
   "cell_type": "code",
   "execution_count": 96,
   "id": "a30976bf",
   "metadata": {
    "tags": []
   },
   "outputs": [
    {
     "data": {
      "text/plain": [
       "(5000, 13)"
      ]
     },
     "execution_count": 96,
     "metadata": {},
     "output_type": "execute_result"
    }
   ],
   "source": [
    "df.shape"
   ]
  },
  {
   "cell_type": "code",
   "execution_count": 100,
   "id": "e7d733bb",
   "metadata": {
    "tags": []
   },
   "outputs": [],
   "source": [
    "# Savinge csv file for training dataset\n",
    "df.to_csv('train_sample.csv')"
   ]
  },
  {
   "cell_type": "code",
   "execution_count": 101,
   "id": "fef778b9",
   "metadata": {
    "tags": []
   },
   "outputs": [
    {
     "data": {
      "text/plain": [
       "(4532489, 10)"
      ]
     },
     "execution_count": 101,
     "metadata": {},
     "output_type": "execute_result"
    }
   ],
   "source": [
    "# Display the shape of the X_test dataset\n",
    "X_test.shape"
   ]
  },
  {
   "cell_type": "code",
   "execution_count": 102,
   "id": "5728174b",
   "metadata": {
    "tags": []
   },
   "outputs": [],
   "source": [
    "# Savinge csv file for testing dataset\n",
    "X_test.sample(250).to_csv('test_sample.csv')"
   ]
  },
  {
   "cell_type": "code",
   "execution_count": 103,
   "id": "26895310",
   "metadata": {
    "tags": []
   },
   "outputs": [
    {
     "data": {
      "text/html": [
       "<div>\n",
       "<style scoped>\n",
       "    .dataframe tbody tr th:only-of-type {\n",
       "        vertical-align: middle;\n",
       "    }\n",
       "\n",
       "    .dataframe tbody tr th {\n",
       "        vertical-align: top;\n",
       "    }\n",
       "\n",
       "    .dataframe thead th {\n",
       "        text-align: right;\n",
       "    }\n",
       "</style>\n",
       "<table border=\"1\" class=\"dataframe\">\n",
       "  <thead>\n",
       "    <tr style=\"text-align: right;\">\n",
       "      <th></th>\n",
       "      <th>Unnamed: 0</th>\n",
       "      <th>f1</th>\n",
       "      <th>f2</th>\n",
       "      <th>f3</th>\n",
       "      <th>f4</th>\n",
       "      <th>f5</th>\n",
       "      <th>f6</th>\n",
       "      <th>f7</th>\n",
       "      <th>f8</th>\n",
       "      <th>f9</th>\n",
       "      <th>f10</th>\n",
       "    </tr>\n",
       "  </thead>\n",
       "  <tbody>\n",
       "    <tr>\n",
       "      <th>0</th>\n",
       "      <td>3324251</td>\n",
       "      <td>2021-09-20 11:22:51.159481+00:00</td>\n",
       "      <td>x</td>\n",
       "      <td>y</td>\n",
       "      <td>2021-09-25 16:00:00+00:00</td>\n",
       "      <td>2021-09-25 18:00:00+00:00</td>\n",
       "      <td>alpha</td>\n",
       "      <td>True</td>\n",
       "      <td>20.0</td>\n",
       "      <td>1</td>\n",
       "      <td>a-23</td>\n",
       "    </tr>\n",
       "    <tr>\n",
       "      <th>1</th>\n",
       "      <td>1061119</td>\n",
       "      <td>2021-09-07 11:26:16.171364+00:00</td>\n",
       "      <td>x</td>\n",
       "      <td>y</td>\n",
       "      <td>2021-12-25 10:00:00+00:00</td>\n",
       "      <td>2021-12-25 12:00:00+00:00</td>\n",
       "      <td>alpha</td>\n",
       "      <td>True</td>\n",
       "      <td>15.0</td>\n",
       "      <td>1</td>\n",
       "      <td>a-7</td>\n",
       "    </tr>\n",
       "    <tr>\n",
       "      <th>2</th>\n",
       "      <td>3579687</td>\n",
       "      <td>2021-09-22 08:42:03.779468+00:00</td>\n",
       "      <td>x</td>\n",
       "      <td>y</td>\n",
       "      <td>2021-09-29 14:00:00+00:00</td>\n",
       "      <td>2021-09-29 15:55:00+00:00</td>\n",
       "      <td>beta</td>\n",
       "      <td>True</td>\n",
       "      <td>40.0</td>\n",
       "      <td>0</td>\n",
       "      <td>b-9</td>\n",
       "    </tr>\n",
       "    <tr>\n",
       "      <th>3</th>\n",
       "      <td>577528</td>\n",
       "      <td>2021-09-04 22:48:06.428970+00:00</td>\n",
       "      <td>x</td>\n",
       "      <td>y</td>\n",
       "      <td>2021-09-09 17:05:00+00:00</td>\n",
       "      <td>2021-09-09 19:05:00+00:00</td>\n",
       "      <td>omega</td>\n",
       "      <td>True</td>\n",
       "      <td>20.0</td>\n",
       "      <td>1</td>\n",
       "      <td>d-5</td>\n",
       "    </tr>\n",
       "    <tr>\n",
       "      <th>4</th>\n",
       "      <td>3682943</td>\n",
       "      <td>2021-09-23 04:05:03.464393+00:00</td>\n",
       "      <td>x</td>\n",
       "      <td>y</td>\n",
       "      <td>2021-09-24 17:00:00+00:00</td>\n",
       "      <td>2021-09-24 18:59:00+00:00</td>\n",
       "      <td>gamma</td>\n",
       "      <td>True</td>\n",
       "      <td>20.0</td>\n",
       "      <td>1</td>\n",
       "      <td>c-6</td>\n",
       "    </tr>\n",
       "  </tbody>\n",
       "</table>\n",
       "</div>"
      ],
      "text/plain": [
       "   Unnamed: 0                                f1 f2 f3  \\\n",
       "0     3324251  2021-09-20 11:22:51.159481+00:00  x  y   \n",
       "1     1061119  2021-09-07 11:26:16.171364+00:00  x  y   \n",
       "2     3579687  2021-09-22 08:42:03.779468+00:00  x  y   \n",
       "3      577528  2021-09-04 22:48:06.428970+00:00  x  y   \n",
       "4     3682943  2021-09-23 04:05:03.464393+00:00  x  y   \n",
       "\n",
       "                          f4                         f5     f6    f7    f8  \\\n",
       "0  2021-09-25 16:00:00+00:00  2021-09-25 18:00:00+00:00  alpha  True  20.0   \n",
       "1  2021-12-25 10:00:00+00:00  2021-12-25 12:00:00+00:00  alpha  True  15.0   \n",
       "2  2021-09-29 14:00:00+00:00  2021-09-29 15:55:00+00:00   beta  True  40.0   \n",
       "3  2021-09-09 17:05:00+00:00  2021-09-09 19:05:00+00:00  omega  True  20.0   \n",
       "4  2021-09-24 17:00:00+00:00  2021-09-24 18:59:00+00:00  gamma  True  20.0   \n",
       "\n",
       "   f9   f10  \n",
       "0   1  a-23  \n",
       "1   1   a-7  \n",
       "2   0   b-9  \n",
       "3   1   d-5  \n",
       "4   1   c-6  "
      ]
     },
     "execution_count": 103,
     "metadata": {},
     "output_type": "execute_result"
    }
   ],
   "source": [
    "# Read the CSV file 'test_sample.csv' into a pandas DataFrame called df_test\n",
    "df_test = pd.read_csv('test_sample.csv')\n",
    "\n",
    "# Display the first few rows of the DataFrame df_test\n",
    "df_test.head()"
   ]
  },
  {
   "cell_type": "code",
   "execution_count": 104,
   "id": "d24626fb",
   "metadata": {
    "tags": []
   },
   "outputs": [],
   "source": [
    "# Load your training data from a CSV file into a pandas DataFrame\n",
    "df = pd.read_csv('train_sample.csv')\n",
    "\n",
    "# Load your testing data from a CSV file into a pandas DataFrame\n",
    "df_test = pd.read_csv('test_sample.csv')"
   ]
  },
  {
   "cell_type": "code",
   "execution_count": 105,
   "id": "7e46fb5d",
   "metadata": {
    "tags": []
   },
   "outputs": [
    {
     "name": "stdout",
     "output_type": "stream",
     "text": [
      "columns, rows (5000, 14)\n"
     ]
    }
   ],
   "source": [
    "# EDA Analysis\n",
    "# Print the number of columns and rows in the dataframe\n",
    "print(\"columns, rows\", df.shape)"
   ]
  },
  {
   "cell_type": "code",
   "execution_count": 108,
   "id": "7116ddb1",
   "metadata": {
    "tags": []
   },
   "outputs": [
    {
     "name": "stdout",
     "output_type": "stream",
     "text": [
      "<class 'pandas.core.frame.DataFrame'>\n",
      "RangeIndex: 5000 entries, 0 to 4999\n",
      "Data columns (total 14 columns):\n",
      " #   Column        Non-Null Count  Dtype  \n",
      "---  ------        --------------  -----  \n",
      " 0   Unnamed: 0.2  5000 non-null   int64  \n",
      " 1   Unnamed: 0    5000 non-null   int64  \n",
      " 2   f1            5000 non-null   object \n",
      " 3   f2            5000 non-null   object \n",
      " 4   f3            5000 non-null   object \n",
      " 5   f4            5000 non-null   object \n",
      " 6   f5            5000 non-null   object \n",
      " 7   f6            5000 non-null   object \n",
      " 8   f7            5000 non-null   bool   \n",
      " 9   f8            5000 non-null   float64\n",
      " 10  f9            5000 non-null   int64  \n",
      " 11  f10           5000 non-null   object \n",
      " 12  Unnamed: 0.1  5000 non-null   int64  \n",
      " 13  target        5000 non-null   float64\n",
      "dtypes: bool(1), float64(2), int64(4), object(7)\n",
      "memory usage: 512.8+ KB\n"
     ]
    }
   ],
   "source": [
    "# Display information about the DataFrame, including the index dtype and column dtypes, non-null values, and memory usage\n",
    "df.info()"
   ]
  },
  {
   "cell_type": "code",
   "execution_count": 111,
   "id": "3c90986b",
   "metadata": {
    "tags": []
   },
   "outputs": [
    {
     "data": {
      "text/plain": [
       "Unnamed: 0.2    0\n",
       "Unnamed: 0      0\n",
       "f1              0\n",
       "f2              0\n",
       "f3              0\n",
       "f4              0\n",
       "f5              0\n",
       "f6              0\n",
       "f7              0\n",
       "f8              0\n",
       "f9              0\n",
       "f10             0\n",
       "Unnamed: 0.1    0\n",
       "target          0\n",
       "dtype: int64"
      ]
     },
     "execution_count": 111,
     "metadata": {},
     "output_type": "execute_result"
    }
   ],
   "source": [
    "# Check for missing values in each column of the DataFrame\n",
    "df.isnull().sum()"
   ]
  },
  {
   "cell_type": "code",
   "execution_count": 114,
   "id": "bf4e5fc9",
   "metadata": {
    "tags": []
   },
   "outputs": [
    {
     "data": {
      "text/html": [
       "<div>\n",
       "<style scoped>\n",
       "    .dataframe tbody tr th:only-of-type {\n",
       "        vertical-align: middle;\n",
       "    }\n",
       "\n",
       "    .dataframe tbody tr th {\n",
       "        vertical-align: top;\n",
       "    }\n",
       "\n",
       "    .dataframe thead th {\n",
       "        text-align: right;\n",
       "    }\n",
       "</style>\n",
       "<table border=\"1\" class=\"dataframe\">\n",
       "  <thead>\n",
       "    <tr style=\"text-align: right;\">\n",
       "      <th></th>\n",
       "      <th>Unnamed: 0.2</th>\n",
       "      <th>Unnamed: 0</th>\n",
       "      <th>f8</th>\n",
       "      <th>f9</th>\n",
       "      <th>Unnamed: 0.1</th>\n",
       "      <th>target</th>\n",
       "    </tr>\n",
       "  </thead>\n",
       "  <tbody>\n",
       "    <tr>\n",
       "      <th>count</th>\n",
       "      <td>5.000000e+03</td>\n",
       "      <td>5.000000e+03</td>\n",
       "      <td>5000.000000</td>\n",
       "      <td>5000.000000</td>\n",
       "      <td>5.000000e+03</td>\n",
       "      <td>5000.000000</td>\n",
       "    </tr>\n",
       "    <tr>\n",
       "      <th>mean</th>\n",
       "      <td>1.079283e+07</td>\n",
       "      <td>1.079283e+07</td>\n",
       "      <td>22.773400</td>\n",
       "      <td>0.938200</td>\n",
       "      <td>1.079283e+07</td>\n",
       "      <td>10135.050800</td>\n",
       "    </tr>\n",
       "    <tr>\n",
       "      <th>std</th>\n",
       "      <td>6.271356e+06</td>\n",
       "      <td>6.271356e+06</td>\n",
       "      <td>8.985221</td>\n",
       "      <td>0.605354</td>\n",
       "      <td>6.271356e+06</td>\n",
       "      <td>3435.888122</td>\n",
       "    </tr>\n",
       "    <tr>\n",
       "      <th>min</th>\n",
       "      <td>5.539000e+03</td>\n",
       "      <td>5.539000e+03</td>\n",
       "      <td>0.000000</td>\n",
       "      <td>0.000000</td>\n",
       "      <td>5.539000e+03</td>\n",
       "      <td>4990.000000</td>\n",
       "    </tr>\n",
       "    <tr>\n",
       "      <th>25%</th>\n",
       "      <td>5.333410e+06</td>\n",
       "      <td>5.333410e+06</td>\n",
       "      <td>20.000000</td>\n",
       "      <td>1.000000</td>\n",
       "      <td>5.333410e+06</td>\n",
       "      <td>7814.000000</td>\n",
       "    </tr>\n",
       "    <tr>\n",
       "      <th>50%</th>\n",
       "      <td>1.082302e+07</td>\n",
       "      <td>1.082302e+07</td>\n",
       "      <td>20.000000</td>\n",
       "      <td>1.000000</td>\n",
       "      <td>1.082302e+07</td>\n",
       "      <td>9403.000000</td>\n",
       "    </tr>\n",
       "    <tr>\n",
       "      <th>75%</th>\n",
       "      <td>1.624892e+07</td>\n",
       "      <td>1.624892e+07</td>\n",
       "      <td>32.000000</td>\n",
       "      <td>1.000000</td>\n",
       "      <td>1.624892e+07</td>\n",
       "      <td>11285.000000</td>\n",
       "    </tr>\n",
       "    <tr>\n",
       "      <th>max</th>\n",
       "      <td>2.176995e+07</td>\n",
       "      <td>2.176995e+07</td>\n",
       "      <td>45.000000</td>\n",
       "      <td>2.000000</td>\n",
       "      <td>2.176995e+07</td>\n",
       "      <td>35000.000000</td>\n",
       "    </tr>\n",
       "  </tbody>\n",
       "</table>\n",
       "</div>"
      ],
      "text/plain": [
       "       Unnamed: 0.2    Unnamed: 0           f8           f9  Unnamed: 0.1  \\\n",
       "count  5.000000e+03  5.000000e+03  5000.000000  5000.000000  5.000000e+03   \n",
       "mean   1.079283e+07  1.079283e+07    22.773400     0.938200  1.079283e+07   \n",
       "std    6.271356e+06  6.271356e+06     8.985221     0.605354  6.271356e+06   \n",
       "min    5.539000e+03  5.539000e+03     0.000000     0.000000  5.539000e+03   \n",
       "25%    5.333410e+06  5.333410e+06    20.000000     1.000000  5.333410e+06   \n",
       "50%    1.082302e+07  1.082302e+07    20.000000     1.000000  1.082302e+07   \n",
       "75%    1.624892e+07  1.624892e+07    32.000000     1.000000  1.624892e+07   \n",
       "max    2.176995e+07  2.176995e+07    45.000000     2.000000  2.176995e+07   \n",
       "\n",
       "             target  \n",
       "count   5000.000000  \n",
       "mean   10135.050800  \n",
       "std     3435.888122  \n",
       "min     4990.000000  \n",
       "25%     7814.000000  \n",
       "50%     9403.000000  \n",
       "75%    11285.000000  \n",
       "max    35000.000000  "
      ]
     },
     "execution_count": 114,
     "metadata": {},
     "output_type": "execute_result"
    }
   ],
   "source": [
    "# Summary Stats\n",
    "# Display descriptive statistics of the dataframe\n",
    "df.describe()"
   ]
  },
  {
   "cell_type": "code",
   "execution_count": 119,
   "id": "161c0374",
   "metadata": {
    "tags": []
   },
   "outputs": [
    {
     "name": "stdout",
     "output_type": "stream",
     "text": [
      "Index(['Unnamed: 0.2', 'Unnamed: 0', 'f1', 'f2', 'f3', 'f4', 'f5', 'f6', 'f7',\n",
      "       'f8', 'f9', 'f10', 'Unnamed: 0.1', 'target'],\n",
      "      dtype='object')\n"
     ]
    }
   ],
   "source": [
    "# Print the column names of the DataFrame\n",
    "print(df.columns)"
   ]
  },
  {
   "cell_type": "code",
   "execution_count": 121,
   "id": "1a5441dc",
   "metadata": {
    "tags": []
   },
   "outputs": [
    {
     "name": "stdout",
     "output_type": "stream",
     "text": [
      "f2 ['x']\n",
      "......................................\n",
      "f3 ['y']\n",
      "......................................\n",
      "f6 ['alpha' 'gamma' 'beta' 'omega']\n",
      "......................................\n",
      "f8 [20.  0. 15. 35. 40. 32. 45.]\n",
      "......................................\n",
      "f9 [1 2 0]\n",
      "......................................\n",
      "f10 ['a-5' 'c-6' 'b-9' 'c-2' 'a-7' 'b-1' 'a-1' 'a-23' 'c-4' 'a-9' 'b-67'\n",
      " 'b-69' 'd-3' 'd-5' 'b-19' 'd-1' 'b-369' 'b-73' 'b-319']\n",
      "......................................\n"
     ]
    }
   ],
   "source": [
    "# Finding unique values in categorical lists\n",
    "\n",
    "# List of categorical columns\n",
    "cat_list = ['f2', 'f3', 'f6', 'f8', 'f9', 'f10']\n",
    "\n",
    "# Iterate through each column in the cat_list\n",
    "for i in cat_list:\n",
    "    # Print the column name and its unique values\n",
    "    print(i, df[i].unique())\n",
    "    # Print a separator for better readability\n",
    "    print('......................................')"
   ]
  },
  {
   "cell_type": "code",
   "execution_count": 124,
   "id": "f9b19e77",
   "metadata": {
    "tags": []
   },
   "outputs": [],
   "source": [
    "# Drop the specified columns from the DataFrame\n",
    "df.drop(['f2', 'f3', 'f10', 'Unnamed: 0', 'Unnamed: 0.2', 'Unnamed: 0.1'], axis=1, inplace=True)"
   ]
  },
  {
   "cell_type": "code",
   "execution_count": 126,
   "id": "73e2e8bd",
   "metadata": {
    "tags": []
   },
   "outputs": [
    {
     "data": {
      "text/html": [
       "<div>\n",
       "<style scoped>\n",
       "    .dataframe tbody tr th:only-of-type {\n",
       "        vertical-align: middle;\n",
       "    }\n",
       "\n",
       "    .dataframe tbody tr th {\n",
       "        vertical-align: top;\n",
       "    }\n",
       "\n",
       "    .dataframe thead th {\n",
       "        text-align: right;\n",
       "    }\n",
       "</style>\n",
       "<table border=\"1\" class=\"dataframe\">\n",
       "  <thead>\n",
       "    <tr style=\"text-align: right;\">\n",
       "      <th></th>\n",
       "      <th>f1</th>\n",
       "      <th>f4</th>\n",
       "      <th>f5</th>\n",
       "      <th>f6</th>\n",
       "      <th>f7</th>\n",
       "      <th>f8</th>\n",
       "      <th>f9</th>\n",
       "      <th>target</th>\n",
       "    </tr>\n",
       "  </thead>\n",
       "  <tbody>\n",
       "    <tr>\n",
       "      <th>0</th>\n",
       "      <td>2021-01-30 16:53:57.960436+00:00</td>\n",
       "      <td>2021-02-09 13:30:00+00:00</td>\n",
       "      <td>2021-02-09 15:40:00+00:00</td>\n",
       "      <td>alpha</td>\n",
       "      <td>True</td>\n",
       "      <td>20.0</td>\n",
       "      <td>1</td>\n",
       "      <td>9799.0</td>\n",
       "    </tr>\n",
       "    <tr>\n",
       "      <th>1</th>\n",
       "      <td>2021-08-18 17:22:11.028467+00:00</td>\n",
       "      <td>2021-08-29 17:00:00+00:00</td>\n",
       "      <td>2021-08-29 18:59:00+00:00</td>\n",
       "      <td>gamma</td>\n",
       "      <td>True</td>\n",
       "      <td>20.0</td>\n",
       "      <td>2</td>\n",
       "      <td>9525.0</td>\n",
       "    </tr>\n",
       "    <tr>\n",
       "      <th>2</th>\n",
       "      <td>2021-06-06 20:41:23.662668+00:00</td>\n",
       "      <td>2021-06-23 14:00:00+00:00</td>\n",
       "      <td>2021-06-23 15:55:00+00:00</td>\n",
       "      <td>beta</td>\n",
       "      <td>True</td>\n",
       "      <td>20.0</td>\n",
       "      <td>0</td>\n",
       "      <td>10057.0</td>\n",
       "    </tr>\n",
       "    <tr>\n",
       "      <th>3</th>\n",
       "      <td>2021-01-07 16:55:44.544858+00:00</td>\n",
       "      <td>2021-03-08 17:00:00+00:00</td>\n",
       "      <td>2021-03-08 18:59:00+00:00</td>\n",
       "      <td>gamma</td>\n",
       "      <td>True</td>\n",
       "      <td>0.0</td>\n",
       "      <td>0</td>\n",
       "      <td>8155.0</td>\n",
       "    </tr>\n",
       "    <tr>\n",
       "      <th>4</th>\n",
       "      <td>2021-07-24 04:17:31.065193+00:00</td>\n",
       "      <td>2021-07-24 10:00:00+00:00</td>\n",
       "      <td>2021-07-24 12:00:00+00:00</td>\n",
       "      <td>gamma</td>\n",
       "      <td>True</td>\n",
       "      <td>20.0</td>\n",
       "      <td>2</td>\n",
       "      <td>21120.0</td>\n",
       "    </tr>\n",
       "  </tbody>\n",
       "</table>\n",
       "</div>"
      ],
      "text/plain": [
       "                                 f1                         f4  \\\n",
       "0  2021-01-30 16:53:57.960436+00:00  2021-02-09 13:30:00+00:00   \n",
       "1  2021-08-18 17:22:11.028467+00:00  2021-08-29 17:00:00+00:00   \n",
       "2  2021-06-06 20:41:23.662668+00:00  2021-06-23 14:00:00+00:00   \n",
       "3  2021-01-07 16:55:44.544858+00:00  2021-03-08 17:00:00+00:00   \n",
       "4  2021-07-24 04:17:31.065193+00:00  2021-07-24 10:00:00+00:00   \n",
       "\n",
       "                          f5     f6    f7    f8  f9   target  \n",
       "0  2021-02-09 15:40:00+00:00  alpha  True  20.0   1   9799.0  \n",
       "1  2021-08-29 18:59:00+00:00  gamma  True  20.0   2   9525.0  \n",
       "2  2021-06-23 15:55:00+00:00   beta  True  20.0   0  10057.0  \n",
       "3  2021-03-08 18:59:00+00:00  gamma  True   0.0   0   8155.0  \n",
       "4  2021-07-24 12:00:00+00:00  gamma  True  20.0   2  21120.0  "
      ]
     },
     "execution_count": 126,
     "metadata": {},
     "output_type": "execute_result"
    }
   ],
   "source": [
    "df.head()"
   ]
  },
  {
   "cell_type": "code",
   "execution_count": 128,
   "id": "56faee16",
   "metadata": {
    "tags": []
   },
   "outputs": [
    {
     "name": "stdout",
     "output_type": "stream",
     "text": [
      "<class 'pandas.core.frame.DataFrame'>\n",
      "RangeIndex: 5000 entries, 0 to 4999\n",
      "Data columns (total 8 columns):\n",
      " #   Column  Non-Null Count  Dtype  \n",
      "---  ------  --------------  -----  \n",
      " 0   f1      5000 non-null   object \n",
      " 1   f4      5000 non-null   object \n",
      " 2   f5      5000 non-null   object \n",
      " 3   f6      5000 non-null   object \n",
      " 4   f7      5000 non-null   bool   \n",
      " 5   f8      5000 non-null   float64\n",
      " 6   f9      5000 non-null   int64  \n",
      " 7   target  5000 non-null   float64\n",
      "dtypes: bool(1), float64(2), int64(1), object(4)\n",
      "memory usage: 278.4+ KB\n"
     ]
    }
   ],
   "source": [
    "# Typecasting \n",
    "\n",
    "df.info()"
   ]
  },
  {
   "cell_type": "code",
   "execution_count": 130,
   "id": "1e073378",
   "metadata": {
    "tags": []
   },
   "outputs": [],
   "source": [
    "# Convert the specified columns into datetime objects\n",
    "from datetime import date, datetime\n",
    "\n",
    "df['f1'] = pd.to_datetime(df['f1'])\n",
    "df['f4'] = pd.to_datetime(df['f4'])\n",
    "df['f5'] = pd.to_datetime(df['f5'])"
   ]
  },
  {
   "cell_type": "code",
   "execution_count": 132,
   "id": "ae3eda8c",
   "metadata": {
    "tags": []
   },
   "outputs": [
    {
     "name": "stdout",
     "output_type": "stream",
     "text": [
      "<class 'pandas.core.frame.DataFrame'>\n",
      "RangeIndex: 5000 entries, 0 to 4999\n",
      "Data columns (total 8 columns):\n",
      " #   Column  Non-Null Count  Dtype              \n",
      "---  ------  --------------  -----              \n",
      " 0   f1      5000 non-null   datetime64[ns, UTC]\n",
      " 1   f4      5000 non-null   datetime64[ns, UTC]\n",
      " 2   f5      5000 non-null   datetime64[ns, UTC]\n",
      " 3   f6      5000 non-null   object             \n",
      " 4   f7      5000 non-null   bool               \n",
      " 5   f8      5000 non-null   float64            \n",
      " 6   f9      5000 non-null   int64              \n",
      " 7   target  5000 non-null   float64            \n",
      "dtypes: bool(1), datetime64[ns, UTC](3), float64(2), int64(1), object(1)\n",
      "memory usage: 278.4+ KB\n"
     ]
    }
   ],
   "source": [
    "df.info()"
   ]
  },
  {
   "cell_type": "code",
   "execution_count": 134,
   "id": "6c099f6f",
   "metadata": {
    "tags": []
   },
   "outputs": [],
   "source": [
    "# Adding a new column \"time_to_dep(s)\" at the first position with the difference between 'f4' and 'f1' in seconds\n",
    "df.insert(0, \"time_to_dep(s)\", ((df['f4'] - df['f1']).astype('timedelta64[s]')), True)\n",
    "\n",
    "# Adding a new column \"travel_time(s)\" at the second position with the difference between 'f5' and 'f4' in seconds\n",
    "df.insert(1, \"travel_time(s)\", ((df['f5'] - df['f4']).astype('timedelta64[s]')), True)"
   ]
  },
  {
   "cell_type": "code",
   "execution_count": 136,
   "id": "e0b94d0a",
   "metadata": {
    "tags": []
   },
   "outputs": [
    {
     "data": {
      "text/html": [
       "<div>\n",
       "<style scoped>\n",
       "    .dataframe tbody tr th:only-of-type {\n",
       "        vertical-align: middle;\n",
       "    }\n",
       "\n",
       "    .dataframe tbody tr th {\n",
       "        vertical-align: top;\n",
       "    }\n",
       "\n",
       "    .dataframe thead th {\n",
       "        text-align: right;\n",
       "    }\n",
       "</style>\n",
       "<table border=\"1\" class=\"dataframe\">\n",
       "  <thead>\n",
       "    <tr style=\"text-align: right;\">\n",
       "      <th></th>\n",
       "      <th>time_to_dep(s)</th>\n",
       "      <th>travel_time(s)</th>\n",
       "      <th>f1</th>\n",
       "      <th>f4</th>\n",
       "      <th>f5</th>\n",
       "      <th>f6</th>\n",
       "      <th>f7</th>\n",
       "      <th>f8</th>\n",
       "      <th>f9</th>\n",
       "      <th>target</th>\n",
       "    </tr>\n",
       "  </thead>\n",
       "  <tbody>\n",
       "    <tr>\n",
       "      <th>0</th>\n",
       "      <td>9 days 20:36:02</td>\n",
       "      <td>0 days 02:10:00</td>\n",
       "      <td>2021-01-30 16:53:57.960436+00:00</td>\n",
       "      <td>2021-02-09 13:30:00+00:00</td>\n",
       "      <td>2021-02-09 15:40:00+00:00</td>\n",
       "      <td>alpha</td>\n",
       "      <td>True</td>\n",
       "      <td>20.0</td>\n",
       "      <td>1</td>\n",
       "      <td>9799.0</td>\n",
       "    </tr>\n",
       "    <tr>\n",
       "      <th>1</th>\n",
       "      <td>10 days 23:37:48</td>\n",
       "      <td>0 days 01:59:00</td>\n",
       "      <td>2021-08-18 17:22:11.028467+00:00</td>\n",
       "      <td>2021-08-29 17:00:00+00:00</td>\n",
       "      <td>2021-08-29 18:59:00+00:00</td>\n",
       "      <td>gamma</td>\n",
       "      <td>True</td>\n",
       "      <td>20.0</td>\n",
       "      <td>2</td>\n",
       "      <td>9525.0</td>\n",
       "    </tr>\n",
       "    <tr>\n",
       "      <th>2</th>\n",
       "      <td>16 days 17:18:36</td>\n",
       "      <td>0 days 01:55:00</td>\n",
       "      <td>2021-06-06 20:41:23.662668+00:00</td>\n",
       "      <td>2021-06-23 14:00:00+00:00</td>\n",
       "      <td>2021-06-23 15:55:00+00:00</td>\n",
       "      <td>beta</td>\n",
       "      <td>True</td>\n",
       "      <td>20.0</td>\n",
       "      <td>0</td>\n",
       "      <td>10057.0</td>\n",
       "    </tr>\n",
       "    <tr>\n",
       "      <th>3</th>\n",
       "      <td>60 days 00:04:15</td>\n",
       "      <td>0 days 01:59:00</td>\n",
       "      <td>2021-01-07 16:55:44.544858+00:00</td>\n",
       "      <td>2021-03-08 17:00:00+00:00</td>\n",
       "      <td>2021-03-08 18:59:00+00:00</td>\n",
       "      <td>gamma</td>\n",
       "      <td>True</td>\n",
       "      <td>0.0</td>\n",
       "      <td>0</td>\n",
       "      <td>8155.0</td>\n",
       "    </tr>\n",
       "    <tr>\n",
       "      <th>4</th>\n",
       "      <td>0 days 05:42:28</td>\n",
       "      <td>0 days 02:00:00</td>\n",
       "      <td>2021-07-24 04:17:31.065193+00:00</td>\n",
       "      <td>2021-07-24 10:00:00+00:00</td>\n",
       "      <td>2021-07-24 12:00:00+00:00</td>\n",
       "      <td>gamma</td>\n",
       "      <td>True</td>\n",
       "      <td>20.0</td>\n",
       "      <td>2</td>\n",
       "      <td>21120.0</td>\n",
       "    </tr>\n",
       "  </tbody>\n",
       "</table>\n",
       "</div>"
      ],
      "text/plain": [
       "    time_to_dep(s)  travel_time(s)                               f1  \\\n",
       "0  9 days 20:36:02 0 days 02:10:00 2021-01-30 16:53:57.960436+00:00   \n",
       "1 10 days 23:37:48 0 days 01:59:00 2021-08-18 17:22:11.028467+00:00   \n",
       "2 16 days 17:18:36 0 days 01:55:00 2021-06-06 20:41:23.662668+00:00   \n",
       "3 60 days 00:04:15 0 days 01:59:00 2021-01-07 16:55:44.544858+00:00   \n",
       "4  0 days 05:42:28 0 days 02:00:00 2021-07-24 04:17:31.065193+00:00   \n",
       "\n",
       "                         f4                        f5     f6    f7    f8  f9  \\\n",
       "0 2021-02-09 13:30:00+00:00 2021-02-09 15:40:00+00:00  alpha  True  20.0   1   \n",
       "1 2021-08-29 17:00:00+00:00 2021-08-29 18:59:00+00:00  gamma  True  20.0   2   \n",
       "2 2021-06-23 14:00:00+00:00 2021-06-23 15:55:00+00:00   beta  True  20.0   0   \n",
       "3 2021-03-08 17:00:00+00:00 2021-03-08 18:59:00+00:00  gamma  True   0.0   0   \n",
       "4 2021-07-24 10:00:00+00:00 2021-07-24 12:00:00+00:00  gamma  True  20.0   2   \n",
       "\n",
       "    target  \n",
       "0   9799.0  \n",
       "1   9525.0  \n",
       "2  10057.0  \n",
       "3   8155.0  \n",
       "4  21120.0  "
      ]
     },
     "execution_count": 136,
     "metadata": {},
     "output_type": "execute_result"
    }
   ],
   "source": [
    "df.head()"
   ]
  },
  {
   "cell_type": "code",
   "execution_count": 138,
   "id": "4510a8cb",
   "metadata": {
    "tags": []
   },
   "outputs": [
    {
     "data": {
      "text/plain": [
       "time_to_dep(s)    0\n",
       "travel_time(s)    0\n",
       "f1                0\n",
       "f4                0\n",
       "f5                0\n",
       "f6                0\n",
       "f7                0\n",
       "f8                0\n",
       "f9                0\n",
       "target            0\n",
       "dtype: int64"
      ]
     },
     "execution_count": 138,
     "metadata": {},
     "output_type": "execute_result"
    }
   ],
   "source": [
    "# Check for missing values in each column of the DataFrame\n",
    "df.isnull().sum()"
   ]
  },
  {
   "cell_type": "code",
   "execution_count": 140,
   "id": "8a14c287",
   "metadata": {
    "tags": []
   },
   "outputs": [],
   "source": [
    "df = df.rename(columns = {'f12' : 'f1'})"
   ]
  },
  {
   "cell_type": "code",
   "execution_count": 142,
   "id": "ff8723f9",
   "metadata": {
    "tags": []
   },
   "outputs": [],
   "source": [
    "cat_cols = ['f6', 'f7', 'f8', 'f9']\n",
    "num_cols = ['time_to_dep(s)', 'travel_time(s)']"
   ]
  },
  {
   "cell_type": "code",
   "execution_count": 144,
   "id": "10c99dfe",
   "metadata": {
    "tags": []
   },
   "outputs": [
    {
     "data": {
      "text/html": [
       "<div>\n",
       "<style scoped>\n",
       "    .dataframe tbody tr th:only-of-type {\n",
       "        vertical-align: middle;\n",
       "    }\n",
       "\n",
       "    .dataframe tbody tr th {\n",
       "        vertical-align: top;\n",
       "    }\n",
       "\n",
       "    .dataframe thead th {\n",
       "        text-align: right;\n",
       "    }\n",
       "</style>\n",
       "<table border=\"1\" class=\"dataframe\">\n",
       "  <thead>\n",
       "    <tr style=\"text-align: right;\">\n",
       "      <th></th>\n",
       "      <th>time_to_dep(s)</th>\n",
       "      <th>travel_time(s)</th>\n",
       "      <th>f1</th>\n",
       "      <th>f4</th>\n",
       "      <th>f5</th>\n",
       "      <th>f6</th>\n",
       "      <th>f7</th>\n",
       "      <th>f8</th>\n",
       "      <th>f9</th>\n",
       "      <th>target</th>\n",
       "    </tr>\n",
       "  </thead>\n",
       "  <tbody>\n",
       "    <tr>\n",
       "      <th>0</th>\n",
       "      <td>9 days 20:36:02</td>\n",
       "      <td>0 days 02:10:00</td>\n",
       "      <td>2021-01-30 16:53:57.960436+00:00</td>\n",
       "      <td>2021-02-09 13:30:00+00:00</td>\n",
       "      <td>2021-02-09 15:40:00+00:00</td>\n",
       "      <td>alpha</td>\n",
       "      <td>True</td>\n",
       "      <td>20.0</td>\n",
       "      <td>1</td>\n",
       "      <td>9799.0</td>\n",
       "    </tr>\n",
       "    <tr>\n",
       "      <th>1</th>\n",
       "      <td>10 days 23:37:48</td>\n",
       "      <td>0 days 01:59:00</td>\n",
       "      <td>2021-08-18 17:22:11.028467+00:00</td>\n",
       "      <td>2021-08-29 17:00:00+00:00</td>\n",
       "      <td>2021-08-29 18:59:00+00:00</td>\n",
       "      <td>gamma</td>\n",
       "      <td>True</td>\n",
       "      <td>20.0</td>\n",
       "      <td>2</td>\n",
       "      <td>9525.0</td>\n",
       "    </tr>\n",
       "    <tr>\n",
       "      <th>2</th>\n",
       "      <td>16 days 17:18:36</td>\n",
       "      <td>0 days 01:55:00</td>\n",
       "      <td>2021-06-06 20:41:23.662668+00:00</td>\n",
       "      <td>2021-06-23 14:00:00+00:00</td>\n",
       "      <td>2021-06-23 15:55:00+00:00</td>\n",
       "      <td>beta</td>\n",
       "      <td>True</td>\n",
       "      <td>20.0</td>\n",
       "      <td>0</td>\n",
       "      <td>10057.0</td>\n",
       "    </tr>\n",
       "    <tr>\n",
       "      <th>3</th>\n",
       "      <td>60 days 00:04:15</td>\n",
       "      <td>0 days 01:59:00</td>\n",
       "      <td>2021-01-07 16:55:44.544858+00:00</td>\n",
       "      <td>2021-03-08 17:00:00+00:00</td>\n",
       "      <td>2021-03-08 18:59:00+00:00</td>\n",
       "      <td>gamma</td>\n",
       "      <td>True</td>\n",
       "      <td>0.0</td>\n",
       "      <td>0</td>\n",
       "      <td>8155.0</td>\n",
       "    </tr>\n",
       "    <tr>\n",
       "      <th>4</th>\n",
       "      <td>0 days 05:42:28</td>\n",
       "      <td>0 days 02:00:00</td>\n",
       "      <td>2021-07-24 04:17:31.065193+00:00</td>\n",
       "      <td>2021-07-24 10:00:00+00:00</td>\n",
       "      <td>2021-07-24 12:00:00+00:00</td>\n",
       "      <td>gamma</td>\n",
       "      <td>True</td>\n",
       "      <td>20.0</td>\n",
       "      <td>2</td>\n",
       "      <td>21120.0</td>\n",
       "    </tr>\n",
       "  </tbody>\n",
       "</table>\n",
       "</div>"
      ],
      "text/plain": [
       "    time_to_dep(s)  travel_time(s)                               f1  \\\n",
       "0  9 days 20:36:02 0 days 02:10:00 2021-01-30 16:53:57.960436+00:00   \n",
       "1 10 days 23:37:48 0 days 01:59:00 2021-08-18 17:22:11.028467+00:00   \n",
       "2 16 days 17:18:36 0 days 01:55:00 2021-06-06 20:41:23.662668+00:00   \n",
       "3 60 days 00:04:15 0 days 01:59:00 2021-01-07 16:55:44.544858+00:00   \n",
       "4  0 days 05:42:28 0 days 02:00:00 2021-07-24 04:17:31.065193+00:00   \n",
       "\n",
       "                         f4                        f5     f6    f7    f8  f9  \\\n",
       "0 2021-02-09 13:30:00+00:00 2021-02-09 15:40:00+00:00  alpha  True  20.0   1   \n",
       "1 2021-08-29 17:00:00+00:00 2021-08-29 18:59:00+00:00  gamma  True  20.0   2   \n",
       "2 2021-06-23 14:00:00+00:00 2021-06-23 15:55:00+00:00   beta  True  20.0   0   \n",
       "3 2021-03-08 17:00:00+00:00 2021-03-08 18:59:00+00:00  gamma  True   0.0   0   \n",
       "4 2021-07-24 10:00:00+00:00 2021-07-24 12:00:00+00:00  gamma  True  20.0   2   \n",
       "\n",
       "    target  \n",
       "0   9799.0  \n",
       "1   9525.0  \n",
       "2  10057.0  \n",
       "3   8155.0  \n",
       "4  21120.0  "
      ]
     },
     "execution_count": 144,
     "metadata": {},
     "output_type": "execute_result"
    }
   ],
   "source": [
    "df.head()"
   ]
  },
  {
   "cell_type": "code",
   "execution_count": 146,
   "id": "f5b9a189",
   "metadata": {
    "tags": []
   },
   "outputs": [
    {
     "data": {
      "text/html": [
       "<div>\n",
       "<style scoped>\n",
       "    .dataframe tbody tr th:only-of-type {\n",
       "        vertical-align: middle;\n",
       "    }\n",
       "\n",
       "    .dataframe tbody tr th {\n",
       "        vertical-align: top;\n",
       "    }\n",
       "\n",
       "    .dataframe thead th {\n",
       "        text-align: right;\n",
       "    }\n",
       "</style>\n",
       "<table border=\"1\" class=\"dataframe\">\n",
       "  <thead>\n",
       "    <tr style=\"text-align: right;\">\n",
       "      <th></th>\n",
       "      <th>time_to_dep(s)</th>\n",
       "      <th>travel_time(s)</th>\n",
       "      <th>f1</th>\n",
       "      <th>f4</th>\n",
       "      <th>f5</th>\n",
       "      <th>f6</th>\n",
       "      <th>f7</th>\n",
       "      <th>f8</th>\n",
       "      <th>f9</th>\n",
       "      <th>target</th>\n",
       "    </tr>\n",
       "  </thead>\n",
       "  <tbody>\n",
       "    <tr>\n",
       "      <th>0</th>\n",
       "      <td>False</td>\n",
       "      <td>False</td>\n",
       "      <td>False</td>\n",
       "      <td>False</td>\n",
       "      <td>False</td>\n",
       "      <td>False</td>\n",
       "      <td>False</td>\n",
       "      <td>False</td>\n",
       "      <td>False</td>\n",
       "      <td>False</td>\n",
       "    </tr>\n",
       "    <tr>\n",
       "      <th>1</th>\n",
       "      <td>False</td>\n",
       "      <td>False</td>\n",
       "      <td>False</td>\n",
       "      <td>False</td>\n",
       "      <td>False</td>\n",
       "      <td>False</td>\n",
       "      <td>False</td>\n",
       "      <td>False</td>\n",
       "      <td>False</td>\n",
       "      <td>False</td>\n",
       "    </tr>\n",
       "    <tr>\n",
       "      <th>2</th>\n",
       "      <td>False</td>\n",
       "      <td>False</td>\n",
       "      <td>False</td>\n",
       "      <td>False</td>\n",
       "      <td>False</td>\n",
       "      <td>False</td>\n",
       "      <td>False</td>\n",
       "      <td>False</td>\n",
       "      <td>False</td>\n",
       "      <td>False</td>\n",
       "    </tr>\n",
       "    <tr>\n",
       "      <th>3</th>\n",
       "      <td>False</td>\n",
       "      <td>False</td>\n",
       "      <td>False</td>\n",
       "      <td>False</td>\n",
       "      <td>False</td>\n",
       "      <td>False</td>\n",
       "      <td>False</td>\n",
       "      <td>False</td>\n",
       "      <td>False</td>\n",
       "      <td>False</td>\n",
       "    </tr>\n",
       "    <tr>\n",
       "      <th>4</th>\n",
       "      <td>False</td>\n",
       "      <td>False</td>\n",
       "      <td>False</td>\n",
       "      <td>False</td>\n",
       "      <td>False</td>\n",
       "      <td>False</td>\n",
       "      <td>False</td>\n",
       "      <td>False</td>\n",
       "      <td>False</td>\n",
       "      <td>False</td>\n",
       "    </tr>\n",
       "    <tr>\n",
       "      <th>...</th>\n",
       "      <td>...</td>\n",
       "      <td>...</td>\n",
       "      <td>...</td>\n",
       "      <td>...</td>\n",
       "      <td>...</td>\n",
       "      <td>...</td>\n",
       "      <td>...</td>\n",
       "      <td>...</td>\n",
       "      <td>...</td>\n",
       "      <td>...</td>\n",
       "    </tr>\n",
       "    <tr>\n",
       "      <th>4995</th>\n",
       "      <td>False</td>\n",
       "      <td>False</td>\n",
       "      <td>False</td>\n",
       "      <td>False</td>\n",
       "      <td>False</td>\n",
       "      <td>False</td>\n",
       "      <td>False</td>\n",
       "      <td>False</td>\n",
       "      <td>False</td>\n",
       "      <td>False</td>\n",
       "    </tr>\n",
       "    <tr>\n",
       "      <th>4996</th>\n",
       "      <td>False</td>\n",
       "      <td>False</td>\n",
       "      <td>False</td>\n",
       "      <td>False</td>\n",
       "      <td>False</td>\n",
       "      <td>False</td>\n",
       "      <td>False</td>\n",
       "      <td>False</td>\n",
       "      <td>False</td>\n",
       "      <td>False</td>\n",
       "    </tr>\n",
       "    <tr>\n",
       "      <th>4997</th>\n",
       "      <td>False</td>\n",
       "      <td>False</td>\n",
       "      <td>False</td>\n",
       "      <td>False</td>\n",
       "      <td>False</td>\n",
       "      <td>False</td>\n",
       "      <td>False</td>\n",
       "      <td>False</td>\n",
       "      <td>False</td>\n",
       "      <td>False</td>\n",
       "    </tr>\n",
       "    <tr>\n",
       "      <th>4998</th>\n",
       "      <td>False</td>\n",
       "      <td>False</td>\n",
       "      <td>False</td>\n",
       "      <td>False</td>\n",
       "      <td>False</td>\n",
       "      <td>False</td>\n",
       "      <td>False</td>\n",
       "      <td>False</td>\n",
       "      <td>False</td>\n",
       "      <td>False</td>\n",
       "    </tr>\n",
       "    <tr>\n",
       "      <th>4999</th>\n",
       "      <td>False</td>\n",
       "      <td>False</td>\n",
       "      <td>False</td>\n",
       "      <td>False</td>\n",
       "      <td>False</td>\n",
       "      <td>False</td>\n",
       "      <td>False</td>\n",
       "      <td>False</td>\n",
       "      <td>False</td>\n",
       "      <td>False</td>\n",
       "    </tr>\n",
       "  </tbody>\n",
       "</table>\n",
       "<p>5000 rows × 10 columns</p>\n",
       "</div>"
      ],
      "text/plain": [
       "      time_to_dep(s)  travel_time(s)     f1     f4     f5     f6     f7  \\\n",
       "0              False           False  False  False  False  False  False   \n",
       "1              False           False  False  False  False  False  False   \n",
       "2              False           False  False  False  False  False  False   \n",
       "3              False           False  False  False  False  False  False   \n",
       "4              False           False  False  False  False  False  False   \n",
       "...              ...             ...    ...    ...    ...    ...    ...   \n",
       "4995           False           False  False  False  False  False  False   \n",
       "4996           False           False  False  False  False  False  False   \n",
       "4997           False           False  False  False  False  False  False   \n",
       "4998           False           False  False  False  False  False  False   \n",
       "4999           False           False  False  False  False  False  False   \n",
       "\n",
       "         f8     f9  target  \n",
       "0     False  False   False  \n",
       "1     False  False   False  \n",
       "2     False  False   False  \n",
       "3     False  False   False  \n",
       "4     False  False   False  \n",
       "...     ...    ...     ...  \n",
       "4995  False  False   False  \n",
       "4996  False  False   False  \n",
       "4997  False  False   False  \n",
       "4998  False  False   False  \n",
       "4999  False  False   False  \n",
       "\n",
       "[5000 rows x 10 columns]"
      ]
     },
     "execution_count": 146,
     "metadata": {},
     "output_type": "execute_result"
    }
   ],
   "source": [
    "df.isnull()"
   ]
  },
  {
   "cell_type": "code",
   "execution_count": 148,
   "id": "56cd7d75",
   "metadata": {
    "tags": []
   },
   "outputs": [
    {
     "data": {
      "image/png": "[encoded data removed]",
      "text/plain": [
       "<Figure size 1500x4000 with 4 Axes>"
      ]
     },
     "metadata": {},
     "output_type": "display_data"
    }
   ],
   "source": [
    "# Categorical count plot\n",
    "c = 1\n",
    "plt.figure(figsize = (15, 40))\n",
    "for i in cat_cols:\n",
    "    plt.subplot(6, 2, c)\n",
    "    sns.countplot(data=df, x=i)\n",
    "    c=c+1\n",
    "plt.show()"
   ]
  },
  {
   "cell_type": "code",
   "execution_count": 149,
   "id": "8956ffe0",
   "metadata": {
    "tags": []
   },
   "outputs": [
    {
     "name": "stderr",
     "output_type": "stream",
     "text": [
      "C:\\Users\\hp\\AppData\\Local\\Temp\\ipykernel_14384\\2493708806.py:6: UserWarning: \n",
      "\n",
      "`distplot` is a deprecated function and will be removed in seaborn v0.14.0.\n",
      "\n",
      "Please adapt your code to use either `displot` (a figure-level function with\n",
      "similar flexibility) or `histplot` (an axes-level function for histograms).\n",
      "\n",
      "For a guide to updating your code to use the new functions, please see\n",
      "https://gist.github.com/mwaskom/de44147ed2974457ad6372750bbe5751\n",
      "\n",
      "  sns.distplot(df[i])\n",
      "C:\\Users\\hp\\anaconda3\\Lib\\site-packages\\seaborn\\_oldcore.py:1119: FutureWarning: use_inf_as_na option is deprecated and will be removed in a future version. Convert inf values to NaN before operating instead.\n",
      "  with pd.option_context('mode.use_inf_as_na', True):\n",
      "C:\\Users\\hp\\AppData\\Local\\Temp\\ipykernel_14384\\2493708806.py:6: UserWarning: \n",
      "\n",
      "`distplot` is a deprecated function and will be removed in seaborn v0.14.0.\n",
      "\n",
      "Please adapt your code to use either `displot` (a figure-level function with\n",
      "similar flexibility) or `histplot` (an axes-level function for histograms).\n",
      "\n",
      "For a guide to updating your code to use the new functions, please see\n",
      "https://gist.github.com/mwaskom/de44147ed2974457ad6372750bbe5751\n",
      "\n",
      "  sns.distplot(df[i])\n",
      "C:\\Users\\hp\\anaconda3\\Lib\\site-packages\\seaborn\\_oldcore.py:1119: FutureWarning: use_inf_as_na option is deprecated and will be removed in a future version. Convert inf values to NaN before operating instead.\n",
      "  with pd.option_context('mode.use_inf_as_na', True):\n"
     ]
    },
    {
     "data": {
      "image/png": "[encoded data removed]",
      "text/plain": [
       "<Figure size 1500x4000 with 2 Axes>"
      ]
     },
     "metadata": {},
     "output_type": "display_data"
    }
   ],
   "source": [
    "# Numerical count plot\n",
    "c = 1\n",
    "plt.figure(figsize = (15, 40))\n",
    "for i in num_cols:\n",
    "    plt.subplot(6, 2, c)\n",
    "    sns.distplot(df[i])\n",
    "    c=c+1\n",
    "plt.show()"
   ]
  },
  {
   "cell_type": "code",
   "execution_count": 152,
   "id": "0c647b21",
   "metadata": {
    "tags": []
   },
   "outputs": [
    {
     "name": "stderr",
     "output_type": "stream",
     "text": [
      "C:\\Users\\hp\\anaconda3\\Lib\\site-packages\\seaborn\\_oldcore.py:1119: FutureWarning: use_inf_as_na option is deprecated and will be removed in a future version. Convert inf values to NaN before operating instead.\n",
      "  with pd.option_context('mode.use_inf_as_na', True):\n"
     ]
    },
    {
     "data": {
      "text/plain": [
       "<seaborn.axisgrid.FacetGrid at 0x17ab4549fd0>"
      ]
     },
     "execution_count": 152,
     "metadata": {},
     "output_type": "execute_result"
    },
    {
     "data": {
      "image/png": "[encoded data removed]",
      "text/plain": [
       "<Figure size 500x500 with 1 Axes>"
      ]
     },
     "metadata": {},
     "output_type": "display_data"
    }
   ],
   "source": [
    "# Target \n",
    "sns.displot(df['target'])"
   ]
  },
  {
   "cell_type": "code",
   "execution_count": 154,
   "id": "25ac0ca6",
   "metadata": {
    "tags": []
   },
   "outputs": [
    {
     "data": {
      "text/plain": [
       "<Axes: >"
      ]
     },
     "execution_count": 154,
     "metadata": {},
     "output_type": "execute_result"
    },
    {
     "data": {
      "image/png": "[encoded data removed]",
      "text/plain": [
       "<Figure size 640x480 with 1 Axes>"
      ]
     },
     "metadata": {},
     "output_type": "display_data"
    }
   ],
   "source": [
    "# Target\n",
    "sns.boxplot(df.target)"
   ]
  },
  {
   "cell_type": "code",
   "execution_count": 156,
   "id": "1e916bee",
   "metadata": {
    "tags": []
   },
   "outputs": [
    {
     "name": "stdout",
     "output_type": "stream",
     "text": [
      "       time_to_dep(s)  travel_time(s)                               f1  \\\n",
      "0     9 days 20:36:02 0 days 02:10:00 2021-01-30 16:53:57.960436+00:00   \n",
      "1    10 days 23:37:48 0 days 01:59:00 2021-08-18 17:22:11.028467+00:00   \n",
      "2    16 days 17:18:36 0 days 01:55:00 2021-06-06 20:41:23.662668+00:00   \n",
      "3    60 days 00:04:15 0 days 01:59:00 2021-01-07 16:55:44.544858+00:00   \n",
      "5    18 days 06:12:52 0 days 02:00:00 2021-03-11 09:17:07.997487+00:00   \n",
      "...               ...             ...                              ...   \n",
      "4994  0 days 08:35:41 0 days 02:00:00 2021-06-10 20:24:18.418767+00:00   \n",
      "4995 33 days 06:14:24 0 days 01:59:00 2021-05-24 10:45:35.815989+00:00   \n",
      "4996 26 days 18:05:41 0 days 01:59:00 2021-07-10 22:54:18.162016+00:00   \n",
      "4997 18 days 18:31:52 0 days 02:00:00 2021-07-26 21:28:07.209499+00:00   \n",
      "4998 32 days 07:47:17 0 days 02:00:00 2021-03-03 08:12:42.447878+00:00   \n",
      "\n",
      "                            f4                        f5     f6    f7    f8  \\\n",
      "0    2021-02-09 13:30:00+00:00 2021-02-09 15:40:00+00:00  alpha  True  20.0   \n",
      "1    2021-08-29 17:00:00+00:00 2021-08-29 18:59:00+00:00  gamma  True  20.0   \n",
      "2    2021-06-23 14:00:00+00:00 2021-06-23 15:55:00+00:00   beta  True  20.0   \n",
      "3    2021-03-08 17:00:00+00:00 2021-03-08 18:59:00+00:00  gamma  True   0.0   \n",
      "5    2021-03-29 15:30:00+00:00 2021-03-29 17:30:00+00:00  alpha  True  15.0   \n",
      "...                        ...                       ...    ...   ...   ...   \n",
      "4994 2021-06-11 05:00:00+00:00 2021-06-11 07:00:00+00:00  alpha  True  15.0   \n",
      "4995 2021-06-26 17:00:00+00:00 2021-06-26 18:59:00+00:00  gamma  True  20.0   \n",
      "4996 2021-08-06 17:00:00+00:00 2021-08-06 18:59:00+00:00  gamma  True  20.0   \n",
      "4997 2021-08-14 16:00:00+00:00 2021-08-14 18:00:00+00:00  alpha  True  35.0   \n",
      "4998 2021-04-04 16:00:00+00:00 2021-04-04 18:00:00+00:00  alpha  True  35.0   \n",
      "\n",
      "      f9   target  \n",
      "0      1   9799.0  \n",
      "1      2   9525.0  \n",
      "2      0  10057.0  \n",
      "3      0   8155.0  \n",
      "5      1   9798.0  \n",
      "...   ..      ...  \n",
      "4994   1   9403.0  \n",
      "4995   2  11425.0  \n",
      "4996   1  12560.0  \n",
      "4997   1  10545.0  \n",
      "4998   1   8027.0  \n",
      "\n",
      "[4740 rows x 10 columns]\n"
     ]
    }
   ],
   "source": [
    "df.skew\n",
    "df.kurtosis\n",
    "\n",
    "# Calculate the first quartile (Q1)\n",
    "Q1 = df['target'].quantile(0.25)\n",
    "\n",
    "# Calculate the third quartile (Q3)\n",
    "Q3 = df['target'].quantile(0.75)\n",
    "\n",
    "# Calculate the interquartile range (IQR)\n",
    "IQR = Q3 - Q1\n",
    "\n",
    "# Define the lower and upper bounds to identify outliers\n",
    "lower_bound = Q1 - 1.5 * IQR\n",
    "upper_bound = Q3 + 1.5 * IQR\n",
    "\n",
    "# Filter out the outliers\n",
    "df_no_outliers = df[(df['target'] >= lower_bound) & (df['target'] <= upper_bound)]\n",
    "\n",
    "# Display the DataFrame without outliers\n",
    "print(df_no_outliers)"
   ]
  },
  {
   "cell_type": "code",
   "execution_count": 158,
   "id": "0a6f2d1d",
   "metadata": {
    "tags": []
   },
   "outputs": [
    {
     "data": {
      "text/plain": [
       "<Axes: >"
      ]
     },
     "execution_count": 158,
     "metadata": {},
     "output_type": "execute_result"
    },
    {
     "data": {
      "image/png": "[encoded data removed]",
      "text/plain": [
       "<Figure size 640x480 with 1 Axes>"
      ]
     },
     "metadata": {},
     "output_type": "display_data"
    }
   ],
   "source": [
    "# Target\n",
    "sns.boxplot(df.target)"
   ]
  },
  {
   "cell_type": "code",
   "execution_count": 160,
   "id": "cbffdd23",
   "metadata": {
    "tags": []
   },
   "outputs": [
    {
     "data": {
      "text/html": [
       "<div>\n",
       "<style scoped>\n",
       "    .dataframe tbody tr th:only-of-type {\n",
       "        vertical-align: middle;\n",
       "    }\n",
       "\n",
       "    .dataframe tbody tr th {\n",
       "        vertical-align: top;\n",
       "    }\n",
       "\n",
       "    .dataframe thead th {\n",
       "        text-align: right;\n",
       "    }\n",
       "</style>\n",
       "<table border=\"1\" class=\"dataframe\">\n",
       "  <thead>\n",
       "    <tr style=\"text-align: right;\">\n",
       "      <th></th>\n",
       "      <th>time_to_dep(s)</th>\n",
       "      <th>travel_time(s)</th>\n",
       "      <th>f1</th>\n",
       "      <th>f4</th>\n",
       "      <th>f5</th>\n",
       "      <th>f6</th>\n",
       "      <th>f7</th>\n",
       "      <th>f8</th>\n",
       "      <th>f9</th>\n",
       "      <th>target</th>\n",
       "    </tr>\n",
       "  </thead>\n",
       "  <tbody>\n",
       "    <tr>\n",
       "      <th>0</th>\n",
       "      <td>9 days 20:36:02</td>\n",
       "      <td>0 days 02:10:00</td>\n",
       "      <td>2021-01-30 16:53:57.960436+00:00</td>\n",
       "      <td>2021-02-09 13:30:00+00:00</td>\n",
       "      <td>2021-02-09 15:40:00+00:00</td>\n",
       "      <td>alpha</td>\n",
       "      <td>True</td>\n",
       "      <td>20.0</td>\n",
       "      <td>1</td>\n",
       "      <td>9799.0</td>\n",
       "    </tr>\n",
       "    <tr>\n",
       "      <th>1</th>\n",
       "      <td>10 days 23:37:48</td>\n",
       "      <td>0 days 01:59:00</td>\n",
       "      <td>2021-08-18 17:22:11.028467+00:00</td>\n",
       "      <td>2021-08-29 17:00:00+00:00</td>\n",
       "      <td>2021-08-29 18:59:00+00:00</td>\n",
       "      <td>gamma</td>\n",
       "      <td>True</td>\n",
       "      <td>20.0</td>\n",
       "      <td>2</td>\n",
       "      <td>9525.0</td>\n",
       "    </tr>\n",
       "    <tr>\n",
       "      <th>2</th>\n",
       "      <td>16 days 17:18:36</td>\n",
       "      <td>0 days 01:55:00</td>\n",
       "      <td>2021-06-06 20:41:23.662668+00:00</td>\n",
       "      <td>2021-06-23 14:00:00+00:00</td>\n",
       "      <td>2021-06-23 15:55:00+00:00</td>\n",
       "      <td>beta</td>\n",
       "      <td>True</td>\n",
       "      <td>20.0</td>\n",
       "      <td>0</td>\n",
       "      <td>10057.0</td>\n",
       "    </tr>\n",
       "    <tr>\n",
       "      <th>3</th>\n",
       "      <td>60 days 00:04:15</td>\n",
       "      <td>0 days 01:59:00</td>\n",
       "      <td>2021-01-07 16:55:44.544858+00:00</td>\n",
       "      <td>2021-03-08 17:00:00+00:00</td>\n",
       "      <td>2021-03-08 18:59:00+00:00</td>\n",
       "      <td>gamma</td>\n",
       "      <td>True</td>\n",
       "      <td>0.0</td>\n",
       "      <td>0</td>\n",
       "      <td>8155.0</td>\n",
       "    </tr>\n",
       "    <tr>\n",
       "      <th>4</th>\n",
       "      <td>0 days 05:42:28</td>\n",
       "      <td>0 days 02:00:00</td>\n",
       "      <td>2021-07-24 04:17:31.065193+00:00</td>\n",
       "      <td>2021-07-24 10:00:00+00:00</td>\n",
       "      <td>2021-07-24 12:00:00+00:00</td>\n",
       "      <td>gamma</td>\n",
       "      <td>True</td>\n",
       "      <td>20.0</td>\n",
       "      <td>2</td>\n",
       "      <td>21120.0</td>\n",
       "    </tr>\n",
       "  </tbody>\n",
       "</table>\n",
       "</div>"
      ],
      "text/plain": [
       "    time_to_dep(s)  travel_time(s)                               f1  \\\n",
       "0  9 days 20:36:02 0 days 02:10:00 2021-01-30 16:53:57.960436+00:00   \n",
       "1 10 days 23:37:48 0 days 01:59:00 2021-08-18 17:22:11.028467+00:00   \n",
       "2 16 days 17:18:36 0 days 01:55:00 2021-06-06 20:41:23.662668+00:00   \n",
       "3 60 days 00:04:15 0 days 01:59:00 2021-01-07 16:55:44.544858+00:00   \n",
       "4  0 days 05:42:28 0 days 02:00:00 2021-07-24 04:17:31.065193+00:00   \n",
       "\n",
       "                         f4                        f5     f6    f7    f8  f9  \\\n",
       "0 2021-02-09 13:30:00+00:00 2021-02-09 15:40:00+00:00  alpha  True  20.0   1   \n",
       "1 2021-08-29 17:00:00+00:00 2021-08-29 18:59:00+00:00  gamma  True  20.0   2   \n",
       "2 2021-06-23 14:00:00+00:00 2021-06-23 15:55:00+00:00   beta  True  20.0   0   \n",
       "3 2021-03-08 17:00:00+00:00 2021-03-08 18:59:00+00:00  gamma  True   0.0   0   \n",
       "4 2021-07-24 10:00:00+00:00 2021-07-24 12:00:00+00:00  gamma  True  20.0   2   \n",
       "\n",
       "    target  \n",
       "0   9799.0  \n",
       "1   9525.0  \n",
       "2  10057.0  \n",
       "3   8155.0  \n",
       "4  21120.0  "
      ]
     },
     "execution_count": 160,
     "metadata": {},
     "output_type": "execute_result"
    }
   ],
   "source": [
    "df.head()"
   ]
  },
  {
   "cell_type": "code",
   "execution_count": 162,
   "id": "9468d0ab",
   "metadata": {
    "tags": []
   },
   "outputs": [],
   "source": [
    "df.drop(['f1', 'f4', 'f5'], axis = 1, inplace = True)"
   ]
  },
  {
   "cell_type": "code",
   "execution_count": 164,
   "id": "5b429687",
   "metadata": {
    "tags": []
   },
   "outputs": [
    {
     "data": {
      "text/html": [
       "<div>\n",
       "<style scoped>\n",
       "    .dataframe tbody tr th:only-of-type {\n",
       "        vertical-align: middle;\n",
       "    }\n",
       "\n",
       "    .dataframe tbody tr th {\n",
       "        vertical-align: top;\n",
       "    }\n",
       "\n",
       "    .dataframe thead th {\n",
       "        text-align: right;\n",
       "    }\n",
       "</style>\n",
       "<table border=\"1\" class=\"dataframe\">\n",
       "  <thead>\n",
       "    <tr style=\"text-align: right;\">\n",
       "      <th></th>\n",
       "      <th>time_to_dep(s)</th>\n",
       "      <th>travel_time(s)</th>\n",
       "      <th>f6</th>\n",
       "      <th>f7</th>\n",
       "      <th>f8</th>\n",
       "      <th>f9</th>\n",
       "      <th>target</th>\n",
       "    </tr>\n",
       "  </thead>\n",
       "  <tbody>\n",
       "    <tr>\n",
       "      <th>0</th>\n",
       "      <td>9 days 20:36:02</td>\n",
       "      <td>0 days 02:10:00</td>\n",
       "      <td>alpha</td>\n",
       "      <td>True</td>\n",
       "      <td>20.0</td>\n",
       "      <td>1</td>\n",
       "      <td>9799.0</td>\n",
       "    </tr>\n",
       "    <tr>\n",
       "      <th>1</th>\n",
       "      <td>10 days 23:37:48</td>\n",
       "      <td>0 days 01:59:00</td>\n",
       "      <td>gamma</td>\n",
       "      <td>True</td>\n",
       "      <td>20.0</td>\n",
       "      <td>2</td>\n",
       "      <td>9525.0</td>\n",
       "    </tr>\n",
       "    <tr>\n",
       "      <th>2</th>\n",
       "      <td>16 days 17:18:36</td>\n",
       "      <td>0 days 01:55:00</td>\n",
       "      <td>beta</td>\n",
       "      <td>True</td>\n",
       "      <td>20.0</td>\n",
       "      <td>0</td>\n",
       "      <td>10057.0</td>\n",
       "    </tr>\n",
       "    <tr>\n",
       "      <th>3</th>\n",
       "      <td>60 days 00:04:15</td>\n",
       "      <td>0 days 01:59:00</td>\n",
       "      <td>gamma</td>\n",
       "      <td>True</td>\n",
       "      <td>0.0</td>\n",
       "      <td>0</td>\n",
       "      <td>8155.0</td>\n",
       "    </tr>\n",
       "    <tr>\n",
       "      <th>4</th>\n",
       "      <td>0 days 05:42:28</td>\n",
       "      <td>0 days 02:00:00</td>\n",
       "      <td>gamma</td>\n",
       "      <td>True</td>\n",
       "      <td>20.0</td>\n",
       "      <td>2</td>\n",
       "      <td>21120.0</td>\n",
       "    </tr>\n",
       "  </tbody>\n",
       "</table>\n",
       "</div>"
      ],
      "text/plain": [
       "    time_to_dep(s)  travel_time(s)     f6    f7    f8  f9   target\n",
       "0  9 days 20:36:02 0 days 02:10:00  alpha  True  20.0   1   9799.0\n",
       "1 10 days 23:37:48 0 days 01:59:00  gamma  True  20.0   2   9525.0\n",
       "2 16 days 17:18:36 0 days 01:55:00   beta  True  20.0   0  10057.0\n",
       "3 60 days 00:04:15 0 days 01:59:00  gamma  True   0.0   0   8155.0\n",
       "4  0 days 05:42:28 0 days 02:00:00  gamma  True  20.0   2  21120.0"
      ]
     },
     "execution_count": 164,
     "metadata": {},
     "output_type": "execute_result"
    }
   ],
   "source": [
    "df.head()"
   ]
  },
  {
   "cell_type": "code",
   "execution_count": 166,
   "id": "8d2a8176",
   "metadata": {
    "tags": []
   },
   "outputs": [],
   "source": [
    "# Encoding\n",
    "from sklearn.preprocessing import LabelEncoder\n",
    "le = LabelEncoder()"
   ]
  },
  {
   "cell_type": "code",
   "execution_count": 168,
   "id": "5a32724c",
   "metadata": {
    "tags": []
   },
   "outputs": [],
   "source": [
    "# Apply label Encoder\n",
    "df['f6'] = le.fit_transform(df['f6'])\n",
    "df['f7'] = le.fit_transform(df['f7'])\n",
    "df['f8'] = le.fit_transform(df['f8'])"
   ]
  },
  {
   "cell_type": "code",
   "execution_count": 170,
   "id": "1339121e",
   "metadata": {
    "tags": []
   },
   "outputs": [
    {
     "data": {
      "text/html": [
       "<div>\n",
       "<style scoped>\n",
       "    .dataframe tbody tr th:only-of-type {\n",
       "        vertical-align: middle;\n",
       "    }\n",
       "\n",
       "    .dataframe tbody tr th {\n",
       "        vertical-align: top;\n",
       "    }\n",
       "\n",
       "    .dataframe thead th {\n",
       "        text-align: right;\n",
       "    }\n",
       "</style>\n",
       "<table border=\"1\" class=\"dataframe\">\n",
       "  <thead>\n",
       "    <tr style=\"text-align: right;\">\n",
       "      <th></th>\n",
       "      <th>time_to_dep(s)</th>\n",
       "      <th>travel_time(s)</th>\n",
       "      <th>f6</th>\n",
       "      <th>f7</th>\n",
       "      <th>f8</th>\n",
       "      <th>f9</th>\n",
       "      <th>target</th>\n",
       "    </tr>\n",
       "  </thead>\n",
       "  <tbody>\n",
       "    <tr>\n",
       "      <th>0</th>\n",
       "      <td>9 days 20:36:02</td>\n",
       "      <td>0 days 02:10:00</td>\n",
       "      <td>0</td>\n",
       "      <td>1</td>\n",
       "      <td>2</td>\n",
       "      <td>1</td>\n",
       "      <td>9799.0</td>\n",
       "    </tr>\n",
       "    <tr>\n",
       "      <th>1</th>\n",
       "      <td>10 days 23:37:48</td>\n",
       "      <td>0 days 01:59:00</td>\n",
       "      <td>2</td>\n",
       "      <td>1</td>\n",
       "      <td>2</td>\n",
       "      <td>2</td>\n",
       "      <td>9525.0</td>\n",
       "    </tr>\n",
       "    <tr>\n",
       "      <th>2</th>\n",
       "      <td>16 days 17:18:36</td>\n",
       "      <td>0 days 01:55:00</td>\n",
       "      <td>1</td>\n",
       "      <td>1</td>\n",
       "      <td>2</td>\n",
       "      <td>0</td>\n",
       "      <td>10057.0</td>\n",
       "    </tr>\n",
       "    <tr>\n",
       "      <th>3</th>\n",
       "      <td>60 days 00:04:15</td>\n",
       "      <td>0 days 01:59:00</td>\n",
       "      <td>2</td>\n",
       "      <td>1</td>\n",
       "      <td>0</td>\n",
       "      <td>0</td>\n",
       "      <td>8155.0</td>\n",
       "    </tr>\n",
       "    <tr>\n",
       "      <th>4</th>\n",
       "      <td>0 days 05:42:28</td>\n",
       "      <td>0 days 02:00:00</td>\n",
       "      <td>2</td>\n",
       "      <td>1</td>\n",
       "      <td>2</td>\n",
       "      <td>2</td>\n",
       "      <td>21120.0</td>\n",
       "    </tr>\n",
       "  </tbody>\n",
       "</table>\n",
       "</div>"
      ],
      "text/plain": [
       "    time_to_dep(s)  travel_time(s)  f6  f7  f8  f9   target\n",
       "0  9 days 20:36:02 0 days 02:10:00   0   1   2   1   9799.0\n",
       "1 10 days 23:37:48 0 days 01:59:00   2   1   2   2   9525.0\n",
       "2 16 days 17:18:36 0 days 01:55:00   1   1   2   0  10057.0\n",
       "3 60 days 00:04:15 0 days 01:59:00   2   1   0   0   8155.0\n",
       "4  0 days 05:42:28 0 days 02:00:00   2   1   2   2  21120.0"
      ]
     },
     "execution_count": 170,
     "metadata": {},
     "output_type": "execute_result"
    }
   ],
   "source": [
    "df.head()"
   ]
  },
  {
   "cell_type": "code",
   "execution_count": 172,
   "id": "ba92890f",
   "metadata": {
    "tags": []
   },
   "outputs": [
    {
     "data": {
      "text/html": [
       "<div>\n",
       "<style scoped>\n",
       "    .dataframe tbody tr th:only-of-type {\n",
       "        vertical-align: middle;\n",
       "    }\n",
       "\n",
       "    .dataframe tbody tr th {\n",
       "        vertical-align: top;\n",
       "    }\n",
       "\n",
       "    .dataframe thead th {\n",
       "        text-align: right;\n",
       "    }\n",
       "</style>\n",
       "<table border=\"1\" class=\"dataframe\">\n",
       "  <thead>\n",
       "    <tr style=\"text-align: right;\">\n",
       "      <th></th>\n",
       "      <th>time_to_dep(s)</th>\n",
       "      <th>travel_time(s)</th>\n",
       "      <th>f6</th>\n",
       "      <th>f7</th>\n",
       "      <th>f8</th>\n",
       "      <th>f9</th>\n",
       "      <th>target</th>\n",
       "    </tr>\n",
       "  </thead>\n",
       "  <tbody>\n",
       "    <tr>\n",
       "      <th>28</th>\n",
       "      <td>13 days 23:02:44</td>\n",
       "      <td>0 days 02:00:00</td>\n",
       "      <td>2</td>\n",
       "      <td>1</td>\n",
       "      <td>2</td>\n",
       "      <td>1</td>\n",
       "      <td>10285.0</td>\n",
       "    </tr>\n",
       "    <tr>\n",
       "      <th>1110</th>\n",
       "      <td>1 days 21:28:00</td>\n",
       "      <td>0 days 01:59:00</td>\n",
       "      <td>2</td>\n",
       "      <td>1</td>\n",
       "      <td>2</td>\n",
       "      <td>1</td>\n",
       "      <td>10900.0</td>\n",
       "    </tr>\n",
       "    <tr>\n",
       "      <th>3925</th>\n",
       "      <td>4 days 22:30:03</td>\n",
       "      <td>0 days 01:59:00</td>\n",
       "      <td>2</td>\n",
       "      <td>1</td>\n",
       "      <td>2</td>\n",
       "      <td>1</td>\n",
       "      <td>7640.0</td>\n",
       "    </tr>\n",
       "    <tr>\n",
       "      <th>2330</th>\n",
       "      <td>3 days 13:34:38</td>\n",
       "      <td>0 days 01:59:00</td>\n",
       "      <td>2</td>\n",
       "      <td>1</td>\n",
       "      <td>2</td>\n",
       "      <td>1</td>\n",
       "      <td>6900.0</td>\n",
       "    </tr>\n",
       "    <tr>\n",
       "      <th>1174</th>\n",
       "      <td>3 days 19:52:03</td>\n",
       "      <td>0 days 02:00:00</td>\n",
       "      <td>0</td>\n",
       "      <td>1</td>\n",
       "      <td>1</td>\n",
       "      <td>1</td>\n",
       "      <td>5495.0</td>\n",
       "    </tr>\n",
       "    <tr>\n",
       "      <th>541</th>\n",
       "      <td>4 days 03:10:39</td>\n",
       "      <td>0 days 02:00:00</td>\n",
       "      <td>0</td>\n",
       "      <td>1</td>\n",
       "      <td>1</td>\n",
       "      <td>1</td>\n",
       "      <td>7524.0</td>\n",
       "    </tr>\n",
       "    <tr>\n",
       "      <th>425</th>\n",
       "      <td>21 days 07:47:52</td>\n",
       "      <td>0 days 01:59:00</td>\n",
       "      <td>2</td>\n",
       "      <td>1</td>\n",
       "      <td>2</td>\n",
       "      <td>1</td>\n",
       "      <td>7765.0</td>\n",
       "    </tr>\n",
       "    <tr>\n",
       "      <th>1380</th>\n",
       "      <td>7 days 23:14:27</td>\n",
       "      <td>0 days 01:55:00</td>\n",
       "      <td>1</td>\n",
       "      <td>1</td>\n",
       "      <td>5</td>\n",
       "      <td>0</td>\n",
       "      <td>12990.0</td>\n",
       "    </tr>\n",
       "    <tr>\n",
       "      <th>3725</th>\n",
       "      <td>77 days 22:00:33</td>\n",
       "      <td>0 days 02:00:00</td>\n",
       "      <td>0</td>\n",
       "      <td>1</td>\n",
       "      <td>4</td>\n",
       "      <td>1</td>\n",
       "      <td>9707.0</td>\n",
       "    </tr>\n",
       "    <tr>\n",
       "      <th>2295</th>\n",
       "      <td>6 days 00:57:47</td>\n",
       "      <td>0 days 02:00:00</td>\n",
       "      <td>0</td>\n",
       "      <td>1</td>\n",
       "      <td>1</td>\n",
       "      <td>1</td>\n",
       "      <td>11245.0</td>\n",
       "    </tr>\n",
       "  </tbody>\n",
       "</table>\n",
       "</div>"
      ],
      "text/plain": [
       "       time_to_dep(s)  travel_time(s)  f6  f7  f8  f9   target\n",
       "28   13 days 23:02:44 0 days 02:00:00   2   1   2   1  10285.0\n",
       "1110  1 days 21:28:00 0 days 01:59:00   2   1   2   1  10900.0\n",
       "3925  4 days 22:30:03 0 days 01:59:00   2   1   2   1   7640.0\n",
       "2330  3 days 13:34:38 0 days 01:59:00   2   1   2   1   6900.0\n",
       "1174  3 days 19:52:03 0 days 02:00:00   0   1   1   1   5495.0\n",
       "541   4 days 03:10:39 0 days 02:00:00   0   1   1   1   7524.0\n",
       "425  21 days 07:47:52 0 days 01:59:00   2   1   2   1   7765.0\n",
       "1380  7 days 23:14:27 0 days 01:55:00   1   1   5   0  12990.0\n",
       "3725 77 days 22:00:33 0 days 02:00:00   0   1   4   1   9707.0\n",
       "2295  6 days 00:57:47 0 days 02:00:00   0   1   1   1  11245.0"
      ]
     },
     "execution_count": 172,
     "metadata": {},
     "output_type": "execute_result"
    }
   ],
   "source": [
    "df.sample(10)"
   ]
  },
  {
   "cell_type": "code",
   "execution_count": 174,
   "id": "77c35788",
   "metadata": {
    "tags": []
   },
   "outputs": [
    {
     "data": {
      "text/html": [
       "<div>\n",
       "<style scoped>\n",
       "    .dataframe tbody tr th:only-of-type {\n",
       "        vertical-align: middle;\n",
       "    }\n",
       "\n",
       "    .dataframe tbody tr th {\n",
       "        vertical-align: top;\n",
       "    }\n",
       "\n",
       "    .dataframe thead th {\n",
       "        text-align: right;\n",
       "    }\n",
       "</style>\n",
       "<table border=\"1\" class=\"dataframe\">\n",
       "  <thead>\n",
       "    <tr style=\"text-align: right;\">\n",
       "      <th></th>\n",
       "      <th>time_to_dep(s)</th>\n",
       "      <th>travel_time(s)</th>\n",
       "      <th>f6</th>\n",
       "      <th>f7</th>\n",
       "      <th>f8</th>\n",
       "      <th>f9</th>\n",
       "      <th>target</th>\n",
       "    </tr>\n",
       "  </thead>\n",
       "  <tbody>\n",
       "    <tr>\n",
       "      <th>count</th>\n",
       "      <td>5000</td>\n",
       "      <td>5000</td>\n",
       "      <td>5000.000000</td>\n",
       "      <td>5000.000000</td>\n",
       "      <td>5000.000000</td>\n",
       "      <td>5000.000000</td>\n",
       "      <td>5000.000000</td>\n",
       "    </tr>\n",
       "    <tr>\n",
       "      <th>mean</th>\n",
       "      <td>15 days 09:46:46</td>\n",
       "      <td>0 days 01:59:18</td>\n",
       "      <td>0.963400</td>\n",
       "      <td>0.992200</td>\n",
       "      <td>2.336600</td>\n",
       "      <td>0.938200</td>\n",
       "      <td>10135.050800</td>\n",
       "    </tr>\n",
       "    <tr>\n",
       "      <th>std</th>\n",
       "      <td>18 days 22:57:51</td>\n",
       "      <td>0 days 00:02:48</td>\n",
       "      <td>0.944796</td>\n",
       "      <td>0.087981</td>\n",
       "      <td>1.264761</td>\n",
       "      <td>0.605354</td>\n",
       "      <td>3435.888122</td>\n",
       "    </tr>\n",
       "    <tr>\n",
       "      <th>min</th>\n",
       "      <td>0 days 00:30:36</td>\n",
       "      <td>0 days 01:55:00</td>\n",
       "      <td>0.000000</td>\n",
       "      <td>0.000000</td>\n",
       "      <td>0.000000</td>\n",
       "      <td>0.000000</td>\n",
       "      <td>4990.000000</td>\n",
       "    </tr>\n",
       "    <tr>\n",
       "      <th>25%</th>\n",
       "      <td>3 days 23:40:37</td>\n",
       "      <td>0 days 01:59:00</td>\n",
       "      <td>0.000000</td>\n",
       "      <td>1.000000</td>\n",
       "      <td>2.000000</td>\n",
       "      <td>1.000000</td>\n",
       "      <td>7814.000000</td>\n",
       "    </tr>\n",
       "    <tr>\n",
       "      <th>50%</th>\n",
       "      <td>9 days 22:24:00</td>\n",
       "      <td>0 days 02:00:00</td>\n",
       "      <td>1.000000</td>\n",
       "      <td>1.000000</td>\n",
       "      <td>2.000000</td>\n",
       "      <td>1.000000</td>\n",
       "      <td>9403.000000</td>\n",
       "    </tr>\n",
       "    <tr>\n",
       "      <th>75%</th>\n",
       "      <td>19 days 22:04:00</td>\n",
       "      <td>0 days 02:00:00</td>\n",
       "      <td>2.000000</td>\n",
       "      <td>1.000000</td>\n",
       "      <td>3.000000</td>\n",
       "      <td>1.000000</td>\n",
       "      <td>11285.000000</td>\n",
       "    </tr>\n",
       "    <tr>\n",
       "      <th>max</th>\n",
       "      <td>236 days 21:33:54</td>\n",
       "      <td>0 days 02:10:00</td>\n",
       "      <td>3.000000</td>\n",
       "      <td>1.000000</td>\n",
       "      <td>6.000000</td>\n",
       "      <td>2.000000</td>\n",
       "      <td>35000.000000</td>\n",
       "    </tr>\n",
       "  </tbody>\n",
       "</table>\n",
       "</div>"
      ],
      "text/plain": [
       "          time_to_dep(s)   travel_time(s)           f6           f7  \\\n",
       "count               5000             5000  5000.000000  5000.000000   \n",
       "mean    15 days 09:46:46  0 days 01:59:18     0.963400     0.992200   \n",
       "std     18 days 22:57:51  0 days 00:02:48     0.944796     0.087981   \n",
       "min      0 days 00:30:36  0 days 01:55:00     0.000000     0.000000   \n",
       "25%      3 days 23:40:37  0 days 01:59:00     0.000000     1.000000   \n",
       "50%      9 days 22:24:00  0 days 02:00:00     1.000000     1.000000   \n",
       "75%     19 days 22:04:00  0 days 02:00:00     2.000000     1.000000   \n",
       "max    236 days 21:33:54  0 days 02:10:00     3.000000     1.000000   \n",
       "\n",
       "                f8           f9        target  \n",
       "count  5000.000000  5000.000000   5000.000000  \n",
       "mean      2.336600     0.938200  10135.050800  \n",
       "std       1.264761     0.605354   3435.888122  \n",
       "min       0.000000     0.000000   4990.000000  \n",
       "25%       2.000000     1.000000   7814.000000  \n",
       "50%       2.000000     1.000000   9403.000000  \n",
       "75%       3.000000     1.000000  11285.000000  \n",
       "max       6.000000     2.000000  35000.000000  "
      ]
     },
     "execution_count": 174,
     "metadata": {},
     "output_type": "execute_result"
    }
   ],
   "source": [
    "df.describe()"
   ]
  },
  {
   "cell_type": "code",
   "execution_count": 176,
   "id": "6d31930c",
   "metadata": {
    "tags": []
   },
   "outputs": [],
   "source": [
    "# Sklearn function to scale data / Normalize\n",
    "from sklearn.preprocessing import StandardScaler\n",
    "\n",
    "# Initialize the scaler\n",
    "scaler = StandardScaler()\n",
    "\n",
    "# Fit and transform the columns\n",
    "df['time_to_dep(s)'] = scaler.fit_transform(df[['time_to_dep(s)']])\n",
    "df['travel_time(s)'] = scaler.fit_transform(df[['travel_time(s)']])\n",
    "df['target'] = scaler.fit_transform(df[['target']])"
   ]
  },
  {
   "cell_type": "code",
   "execution_count": 178,
   "id": "188cdb62",
   "metadata": {
    "tags": []
   },
   "outputs": [
    {
     "data": {
      "text/html": [
       "<div>\n",
       "<style scoped>\n",
       "    .dataframe tbody tr th:only-of-type {\n",
       "        vertical-align: middle;\n",
       "    }\n",
       "\n",
       "    .dataframe tbody tr th {\n",
       "        vertical-align: top;\n",
       "    }\n",
       "\n",
       "    .dataframe thead th {\n",
       "        text-align: right;\n",
       "    }\n",
       "</style>\n",
       "<table border=\"1\" class=\"dataframe\">\n",
       "  <thead>\n",
       "    <tr style=\"text-align: right;\">\n",
       "      <th></th>\n",
       "      <th>time_to_dep(s)</th>\n",
       "      <th>travel_time(s)</th>\n",
       "      <th>f6</th>\n",
       "      <th>f7</th>\n",
       "      <th>f8</th>\n",
       "      <th>f9</th>\n",
       "      <th>target</th>\n",
       "    </tr>\n",
       "  </thead>\n",
       "  <tbody>\n",
       "    <tr>\n",
       "      <th>0</th>\n",
       "      <td>-0.292753</td>\n",
       "      <td>3.806732</td>\n",
       "      <td>0</td>\n",
       "      <td>1</td>\n",
       "      <td>2</td>\n",
       "      <td>1</td>\n",
       "      <td>-0.097816</td>\n",
       "    </tr>\n",
       "    <tr>\n",
       "      <th>1</th>\n",
       "      <td>-0.233337</td>\n",
       "      <td>-0.107170</td>\n",
       "      <td>2</td>\n",
       "      <td>1</td>\n",
       "      <td>2</td>\n",
       "      <td>2</td>\n",
       "      <td>-0.177570</td>\n",
       "    </tr>\n",
       "    <tr>\n",
       "      <th>2</th>\n",
       "      <td>0.069310</td>\n",
       "      <td>-1.530407</td>\n",
       "      <td>1</td>\n",
       "      <td>1</td>\n",
       "      <td>2</td>\n",
       "      <td>0</td>\n",
       "      <td>-0.022719</td>\n",
       "    </tr>\n",
       "    <tr>\n",
       "      <th>3</th>\n",
       "      <td>2.352708</td>\n",
       "      <td>-0.107170</td>\n",
       "      <td>2</td>\n",
       "      <td>1</td>\n",
       "      <td>0</td>\n",
       "      <td>0</td>\n",
       "      <td>-0.576343</td>\n",
       "    </tr>\n",
       "    <tr>\n",
       "      <th>4</th>\n",
       "      <td>-0.800301</td>\n",
       "      <td>0.248640</td>\n",
       "      <td>2</td>\n",
       "      <td>1</td>\n",
       "      <td>2</td>\n",
       "      <td>2</td>\n",
       "      <td>3.197441</td>\n",
       "    </tr>\n",
       "  </tbody>\n",
       "</table>\n",
       "</div>"
      ],
      "text/plain": [
       "   time_to_dep(s)  travel_time(s)  f6  f7  f8  f9    target\n",
       "0       -0.292753        3.806732   0   1   2   1 -0.097816\n",
       "1       -0.233337       -0.107170   2   1   2   2 -0.177570\n",
       "2        0.069310       -1.530407   1   1   2   0 -0.022719\n",
       "3        2.352708       -0.107170   2   1   0   0 -0.576343\n",
       "4       -0.800301        0.248640   2   1   2   2  3.197441"
      ]
     },
     "execution_count": 178,
     "metadata": {},
     "output_type": "execute_result"
    }
   ],
   "source": [
    "df.head()"
   ]
  },
  {
   "cell_type": "code",
   "execution_count": 180,
   "id": "0882fb0f",
   "metadata": {
    "tags": []
   },
   "outputs": [
    {
     "data": {
      "text/plain": [
       "Index(['time_to_dep(s)', 'travel_time(s)', 'f6', 'f7', 'f8', 'f9', 'target'], dtype='object')"
      ]
     },
     "execution_count": 180,
     "metadata": {},
     "output_type": "execute_result"
    }
   ],
   "source": [
    "df.columns"
   ]
  },
  {
   "cell_type": "code",
   "execution_count": 182,
   "id": "39d8fba2",
   "metadata": {
    "tags": []
   },
   "outputs": [],
   "source": [
    "# Splitting\n",
    "\n",
    "X = df.drop(['target'], axis = 1)\n",
    "y = df['target']"
   ]
  },
  {
   "cell_type": "code",
   "execution_count": 184,
   "id": "d11f5299",
   "metadata": {
    "tags": []
   },
   "outputs": [
    {
     "data": {
      "text/html": [
       "<div>\n",
       "<style scoped>\n",
       "    .dataframe tbody tr th:only-of-type {\n",
       "        vertical-align: middle;\n",
       "    }\n",
       "\n",
       "    .dataframe tbody tr th {\n",
       "        vertical-align: top;\n",
       "    }\n",
       "\n",
       "    .dataframe thead th {\n",
       "        text-align: right;\n",
       "    }\n",
       "</style>\n",
       "<table border=\"1\" class=\"dataframe\">\n",
       "  <thead>\n",
       "    <tr style=\"text-align: right;\">\n",
       "      <th></th>\n",
       "      <th>time_to_dep(s)</th>\n",
       "      <th>travel_time(s)</th>\n",
       "      <th>f6</th>\n",
       "      <th>f7</th>\n",
       "      <th>f8</th>\n",
       "      <th>f9</th>\n",
       "    </tr>\n",
       "  </thead>\n",
       "  <tbody>\n",
       "    <tr>\n",
       "      <th>0</th>\n",
       "      <td>-0.292753</td>\n",
       "      <td>3.806732</td>\n",
       "      <td>0</td>\n",
       "      <td>1</td>\n",
       "      <td>2</td>\n",
       "      <td>1</td>\n",
       "    </tr>\n",
       "    <tr>\n",
       "      <th>1</th>\n",
       "      <td>-0.233337</td>\n",
       "      <td>-0.107170</td>\n",
       "      <td>2</td>\n",
       "      <td>1</td>\n",
       "      <td>2</td>\n",
       "      <td>2</td>\n",
       "    </tr>\n",
       "    <tr>\n",
       "      <th>2</th>\n",
       "      <td>0.069310</td>\n",
       "      <td>-1.530407</td>\n",
       "      <td>1</td>\n",
       "      <td>1</td>\n",
       "      <td>2</td>\n",
       "      <td>0</td>\n",
       "    </tr>\n",
       "    <tr>\n",
       "      <th>3</th>\n",
       "      <td>2.352708</td>\n",
       "      <td>-0.107170</td>\n",
       "      <td>2</td>\n",
       "      <td>1</td>\n",
       "      <td>0</td>\n",
       "      <td>0</td>\n",
       "    </tr>\n",
       "    <tr>\n",
       "      <th>4</th>\n",
       "      <td>-0.800301</td>\n",
       "      <td>0.248640</td>\n",
       "      <td>2</td>\n",
       "      <td>1</td>\n",
       "      <td>2</td>\n",
       "      <td>2</td>\n",
       "    </tr>\n",
       "  </tbody>\n",
       "</table>\n",
       "</div>"
      ],
      "text/plain": [
       "   time_to_dep(s)  travel_time(s)  f6  f7  f8  f9\n",
       "0       -0.292753        3.806732   0   1   2   1\n",
       "1       -0.233337       -0.107170   2   1   2   2\n",
       "2        0.069310       -1.530407   1   1   2   0\n",
       "3        2.352708       -0.107170   2   1   0   0\n",
       "4       -0.800301        0.248640   2   1   2   2"
      ]
     },
     "execution_count": 184,
     "metadata": {},
     "output_type": "execute_result"
    }
   ],
   "source": [
    "X.head()"
   ]
  },
  {
   "cell_type": "code",
   "execution_count": 186,
   "id": "bb73424f",
   "metadata": {
    "tags": []
   },
   "outputs": [
    {
     "data": {
      "text/plain": [
       "0   -0.097816\n",
       "1   -0.177570\n",
       "2   -0.022719\n",
       "3   -0.576343\n",
       "4    3.197441\n",
       "Name: target, dtype: float64"
      ]
     },
     "execution_count": 186,
     "metadata": {},
     "output_type": "execute_result"
    }
   ],
   "source": [
    "y.head()"
   ]
  },
  {
   "cell_type": "code",
   "execution_count": 188,
   "id": "dc943a45",
   "metadata": {
    "tags": []
   },
   "outputs": [],
   "source": [
    "\n",
    "# Assuming df is your DataFrame containing the data\n",
    "# Convert timedelta columns to total seconds\n",
    "#df['time_to_dep(s)'] = df['time_to_dep(s)'].dt.total_seconds()\n",
    "#df['travel_time(s)'] = df['travel_time(s)'].dt.total_seconds()\n",
    "\n",
    "# Now the data types should be compatible with linear regression\n",
    "#print(df.dtypes)"
   ]
  },
  {
   "cell_type": "markdown",
   "id": "ac3534f0",
   "metadata": {},
   "source": [
    "### ML Modelling"
   ]
  },
  {
   "cell_type": "code",
   "execution_count": 191,
   "id": "23481113",
   "metadata": {
    "tags": []
   },
   "outputs": [],
   "source": [
    "# regression Pipeline or algos\n",
    "from sklearn.linear_model import LinearRegression\n",
    "from sklearn.tree import DecisionTreeRegressor\n",
    "from sklearn.svm import SVR\n",
    "from sklearn.neighbors import KNeighborsRegressor\n",
    "from sklearn.model_selection import train_test_split\n",
    "from sklearn.metrics import r2_score, mean_absolute_error, mean_squared_error\n",
    "\n",
    "# Root mean squared error\n",
    "# rms = mean_absolute_error(y_test, y_pred, squared = False)"
   ]
  },
  {
   "cell_type": "code",
   "execution_count": 193,
   "id": "1bdddf5b",
   "metadata": {
    "tags": []
   },
   "outputs": [],
   "source": [
    "# Shorten the names\n",
    "lr = LinearRegression()\n",
    "dt = DecisionTreeRegressor()\n",
    "svr = SVR()\n",
    "knn = KNeighborsRegressor()"
   ]
  },
  {
   "cell_type": "code",
   "execution_count": 195,
   "id": "99994da4",
   "metadata": {
    "tags": []
   },
   "outputs": [
    {
     "data": {
      "text/plain": [
       "Unnamed: 0      int64\n",
       "f1             object\n",
       "f2             object\n",
       "f3             object\n",
       "f4             object\n",
       "f5             object\n",
       "f6             object\n",
       "f7               bool\n",
       "f8            float64\n",
       "f9              int64\n",
       "f10            object\n",
       "dtype: object"
      ]
     },
     "execution_count": 195,
     "metadata": {},
     "output_type": "execute_result"
    }
   ],
   "source": [
    "X_train.dtypes"
   ]
  },
  {
   "cell_type": "code",
   "execution_count": 197,
   "id": "088d00bf",
   "metadata": {
    "tags": []
   },
   "outputs": [
    {
     "name": "stdout",
     "output_type": "stream",
     "text": [
      "LinearRegression()\n",
      "R2 Score is :  0.1062741675310751\n",
      "Mean Absolute Error is :  0.6225410433261065\n",
      "Mean Squared Error is :  0.7734067234491167\n",
      "RMSE is :  0.8794354572389702\n",
      "----------------------------------------------------------\n",
      "SVR()\n",
      "R2 Score is :  0.11970444275976122\n",
      "Mean Absolute Error is :  0.5799069736457821\n",
      "Mean Squared Error is :  0.7617845180900709\n",
      "RMSE is :  0.8728026799283277\n",
      "----------------------------------------------------------\n"
     ]
    }
   ],
   "source": [
    "# Model Loop\n",
    "\n",
    "X_train, X_test, y_train, y_test = train_test_split(X, y, test_size = 0.2, random_state = 42)\n",
    "\n",
    "for i in [lr, dt, svr, knn]:\n",
    "    i.fit(X_train, y_train)\n",
    "    pred = i.predict(X_test)\n",
    "    test_score = r2_score(y_test, pred)\n",
    "    train_score = r2_score(y_train, i.predict(X_train))\n",
    "    if abs(train_score - test_score) <= 0.1:\n",
    "        print(i)\n",
    "        print('R2 Score is : ', r2_score(y_test, pred))\n",
    "        print('Mean Absolute Error is : ', mean_absolute_error(y_test, pred))\n",
    "        print('Mean Squared Error is : ', mean_squared_error(y_test, pred))\n",
    "        print('RMSE is : ', mean_squared_error(y_test, pred, squared = False))\n",
    "        print('----------------------------------------------------------')"
   ]
  },
  {
   "cell_type": "code",
   "execution_count": 198,
   "id": "66c8bc39",
   "metadata": {
    "tags": []
   },
   "outputs": [
    {
     "name": "stdout",
     "output_type": "stream",
     "text": [
      "LinearRegression()\n",
      "R2 Score is :  0.08293774933991671\n",
      "Mean Absolute Error is :  0.6526576189147627\n",
      "Mean Squared Error is :  0.9048210769319086\n",
      "RMSE is :  0.951220834996747\n",
      "----------------------------------------------------------\n",
      "SVR()\n",
      "R2 Score is :  0.08796756873397404\n",
      "Mean Absolute Error is :  0.608592754697466\n",
      "Mean Squared Error is :  0.89985839681109\n",
      "RMSE is :  0.9486086636812305\n",
      "----------------------------------------------------------\n"
     ]
    }
   ],
   "source": [
    "# Model Loop 2 of 30, 70\n",
    "\n",
    "X_train, X_test, y_train, y_test = train_test_split(X, y, test_size = 0.3, random_state = 42)\n",
    "\n",
    "for i in [lr, dt, svr, knn]:\n",
    "    i.fit(X_train, y_train)\n",
    "    pred = i.predict(X_test)\n",
    "    test_score = r2_score(y_test, pred)\n",
    "    train_score = r2_score(y_train, i.predict(X_train))\n",
    "    if abs(train_score - test_score) <= 0.1:\n",
    "        print(i)\n",
    "        print('R2 Score is : ', r2_score(y_test, pred))\n",
    "        print('Mean Absolute Error is : ', mean_absolute_error(y_test, pred))\n",
    "        print('Mean Squared Error is : ', mean_squared_error(y_test, pred))\n",
    "        print('RMSE is : ', mean_squared_error(y_test, pred, squared = False))\n",
    "        print('----------------------------------------------------------')\n",
    "        \n",
    "res = pd.DataFrame(pred)\n",
    "res.index = X_test.index\n",
    "res.columns = [\"prediction\"]\n",
    "res.to_csv(\"Prediction_result_with_traintestsplit.csv\")"
   ]
  },
  {
   "cell_type": "code",
   "execution_count": 199,
   "id": "7b09817c",
   "metadata": {
    "tags": []
   },
   "outputs": [
    {
     "data": {
      "text/html": [
       "<div>\n",
       "<style scoped>\n",
       "    .dataframe tbody tr th:only-of-type {\n",
       "        vertical-align: middle;\n",
       "    }\n",
       "\n",
       "    .dataframe tbody tr th {\n",
       "        vertical-align: top;\n",
       "    }\n",
       "\n",
       "    .dataframe thead th {\n",
       "        text-align: right;\n",
       "    }\n",
       "</style>\n",
       "<table border=\"1\" class=\"dataframe\">\n",
       "  <thead>\n",
       "    <tr style=\"text-align: right;\">\n",
       "      <th></th>\n",
       "      <th>time_to_dep(s)</th>\n",
       "      <th>travel_time(s)</th>\n",
       "      <th>f6</th>\n",
       "      <th>f7</th>\n",
       "      <th>f8</th>\n",
       "      <th>f9</th>\n",
       "    </tr>\n",
       "  </thead>\n",
       "  <tbody>\n",
       "    <tr>\n",
       "      <th>0</th>\n",
       "      <td>-0.292753</td>\n",
       "      <td>3.806732</td>\n",
       "      <td>0</td>\n",
       "      <td>1</td>\n",
       "      <td>2</td>\n",
       "      <td>1</td>\n",
       "    </tr>\n",
       "    <tr>\n",
       "      <th>1</th>\n",
       "      <td>-0.233337</td>\n",
       "      <td>-0.107170</td>\n",
       "      <td>2</td>\n",
       "      <td>1</td>\n",
       "      <td>2</td>\n",
       "      <td>2</td>\n",
       "    </tr>\n",
       "    <tr>\n",
       "      <th>2</th>\n",
       "      <td>0.069310</td>\n",
       "      <td>-1.530407</td>\n",
       "      <td>1</td>\n",
       "      <td>1</td>\n",
       "      <td>2</td>\n",
       "      <td>0</td>\n",
       "    </tr>\n",
       "    <tr>\n",
       "      <th>3</th>\n",
       "      <td>2.352708</td>\n",
       "      <td>-0.107170</td>\n",
       "      <td>2</td>\n",
       "      <td>1</td>\n",
       "      <td>0</td>\n",
       "      <td>0</td>\n",
       "    </tr>\n",
       "    <tr>\n",
       "      <th>4</th>\n",
       "      <td>-0.800301</td>\n",
       "      <td>0.248640</td>\n",
       "      <td>2</td>\n",
       "      <td>1</td>\n",
       "      <td>2</td>\n",
       "      <td>2</td>\n",
       "    </tr>\n",
       "  </tbody>\n",
       "</table>\n",
       "</div>"
      ],
      "text/plain": [
       "   time_to_dep(s)  travel_time(s)  f6  f7  f8  f9\n",
       "0       -0.292753        3.806732   0   1   2   1\n",
       "1       -0.233337       -0.107170   2   1   2   2\n",
       "2        0.069310       -1.530407   1   1   2   0\n",
       "3        2.352708       -0.107170   2   1   0   0\n",
       "4       -0.800301        0.248640   2   1   2   2"
      ]
     },
     "execution_count": 199,
     "metadata": {},
     "output_type": "execute_result"
    }
   ],
   "source": [
    "X.head()"
   ]
  },
  {
   "cell_type": "markdown",
   "id": "5960a8ff",
   "metadata": {},
   "source": [
    "### Clean this data too  >>>  Pending!"
   ]
  },
  {
   "cell_type": "code",
   "execution_count": 201,
   "id": "21fcb564",
   "metadata": {
    "tags": []
   },
   "outputs": [
    {
     "data": {
      "text/html": [
       "<div>\n",
       "<style scoped>\n",
       "    .dataframe tbody tr th:only-of-type {\n",
       "        vertical-align: middle;\n",
       "    }\n",
       "\n",
       "    .dataframe tbody tr th {\n",
       "        vertical-align: top;\n",
       "    }\n",
       "\n",
       "    .dataframe thead th {\n",
       "        text-align: right;\n",
       "    }\n",
       "</style>\n",
       "<table border=\"1\" class=\"dataframe\">\n",
       "  <thead>\n",
       "    <tr style=\"text-align: right;\">\n",
       "      <th></th>\n",
       "      <th>Unnamed: 0</th>\n",
       "      <th>f1</th>\n",
       "      <th>f2</th>\n",
       "      <th>f3</th>\n",
       "      <th>f4</th>\n",
       "      <th>f5</th>\n",
       "      <th>f6</th>\n",
       "      <th>f7</th>\n",
       "      <th>f8</th>\n",
       "      <th>f9</th>\n",
       "      <th>f10</th>\n",
       "    </tr>\n",
       "  </thead>\n",
       "  <tbody>\n",
       "    <tr>\n",
       "      <th>0</th>\n",
       "      <td>3324251</td>\n",
       "      <td>2021-09-20 11:22:51.159481+00:00</td>\n",
       "      <td>x</td>\n",
       "      <td>y</td>\n",
       "      <td>2021-09-25 16:00:00+00:00</td>\n",
       "      <td>2021-09-25 18:00:00+00:00</td>\n",
       "      <td>alpha</td>\n",
       "      <td>True</td>\n",
       "      <td>20.0</td>\n",
       "      <td>1</td>\n",
       "      <td>a-23</td>\n",
       "    </tr>\n",
       "    <tr>\n",
       "      <th>1</th>\n",
       "      <td>1061119</td>\n",
       "      <td>2021-09-07 11:26:16.171364+00:00</td>\n",
       "      <td>x</td>\n",
       "      <td>y</td>\n",
       "      <td>2021-12-25 10:00:00+00:00</td>\n",
       "      <td>2021-12-25 12:00:00+00:00</td>\n",
       "      <td>alpha</td>\n",
       "      <td>True</td>\n",
       "      <td>15.0</td>\n",
       "      <td>1</td>\n",
       "      <td>a-7</td>\n",
       "    </tr>\n",
       "    <tr>\n",
       "      <th>2</th>\n",
       "      <td>3579687</td>\n",
       "      <td>2021-09-22 08:42:03.779468+00:00</td>\n",
       "      <td>x</td>\n",
       "      <td>y</td>\n",
       "      <td>2021-09-29 14:00:00+00:00</td>\n",
       "      <td>2021-09-29 15:55:00+00:00</td>\n",
       "      <td>beta</td>\n",
       "      <td>True</td>\n",
       "      <td>40.0</td>\n",
       "      <td>0</td>\n",
       "      <td>b-9</td>\n",
       "    </tr>\n",
       "    <tr>\n",
       "      <th>3</th>\n",
       "      <td>577528</td>\n",
       "      <td>2021-09-04 22:48:06.428970+00:00</td>\n",
       "      <td>x</td>\n",
       "      <td>y</td>\n",
       "      <td>2021-09-09 17:05:00+00:00</td>\n",
       "      <td>2021-09-09 19:05:00+00:00</td>\n",
       "      <td>omega</td>\n",
       "      <td>True</td>\n",
       "      <td>20.0</td>\n",
       "      <td>1</td>\n",
       "      <td>d-5</td>\n",
       "    </tr>\n",
       "    <tr>\n",
       "      <th>4</th>\n",
       "      <td>3682943</td>\n",
       "      <td>2021-09-23 04:05:03.464393+00:00</td>\n",
       "      <td>x</td>\n",
       "      <td>y</td>\n",
       "      <td>2021-09-24 17:00:00+00:00</td>\n",
       "      <td>2021-09-24 18:59:00+00:00</td>\n",
       "      <td>gamma</td>\n",
       "      <td>True</td>\n",
       "      <td>20.0</td>\n",
       "      <td>1</td>\n",
       "      <td>c-6</td>\n",
       "    </tr>\n",
       "  </tbody>\n",
       "</table>\n",
       "</div>"
      ],
      "text/plain": [
       "   Unnamed: 0                                f1 f2 f3  \\\n",
       "0     3324251  2021-09-20 11:22:51.159481+00:00  x  y   \n",
       "1     1061119  2021-09-07 11:26:16.171364+00:00  x  y   \n",
       "2     3579687  2021-09-22 08:42:03.779468+00:00  x  y   \n",
       "3      577528  2021-09-04 22:48:06.428970+00:00  x  y   \n",
       "4     3682943  2021-09-23 04:05:03.464393+00:00  x  y   \n",
       "\n",
       "                          f4                         f5     f6    f7    f8  \\\n",
       "0  2021-09-25 16:00:00+00:00  2021-09-25 18:00:00+00:00  alpha  True  20.0   \n",
       "1  2021-12-25 10:00:00+00:00  2021-12-25 12:00:00+00:00  alpha  True  15.0   \n",
       "2  2021-09-29 14:00:00+00:00  2021-09-29 15:55:00+00:00   beta  True  40.0   \n",
       "3  2021-09-09 17:05:00+00:00  2021-09-09 19:05:00+00:00  omega  True  20.0   \n",
       "4  2021-09-24 17:00:00+00:00  2021-09-24 18:59:00+00:00  gamma  True  20.0   \n",
       "\n",
       "   f9   f10  \n",
       "0   1  a-23  \n",
       "1   1   a-7  \n",
       "2   0   b-9  \n",
       "3   1   d-5  \n",
       "4   1   c-6  "
      ]
     },
     "execution_count": 201,
     "metadata": {},
     "output_type": "execute_result"
    }
   ],
   "source": [
    "# data cleaning \n",
    "df_test.head()"
   ]
  },
  {
   "cell_type": "code",
   "execution_count": 203,
   "id": "498cd817",
   "metadata": {
    "tags": []
   },
   "outputs": [],
   "source": [
    "# Final data prediction\n",
    "\n",
    "# lr = LinearRegression().fit(X,y)\n",
    "# pred = lr.predict(df_test)\n",
    "\n",
    "# res = pd.DataFrame(pred)\n",
    "# res.index = X_test.index\n",
    "# res.columns = [\"prediction\"]\n",
    "# res.to_csv(\"Prediction_result.csv\")"
   ]
  },
  {
   "cell_type": "markdown",
   "id": "f7dca378",
   "metadata": {},
   "source": [
    "### Second Method"
   ]
  },
  {
   "cell_type": "code",
   "execution_count": null,
   "id": "d1347a0b",
   "metadata": {},
   "outputs": [],
   "source": []
  }
 ],
 "metadata": {
  "kernelspec": {
   "display_name": "Python 3 (ipykernel)",
   "language": "python",
   "name": "python3"
  },
  "language_info": {
   "codemirror_mode": {
    "name": "ipython",
    "version": 3
   },
   "file_extension": ".py",
   "mimetype": "text/x-python",
   "name": "python",
   "nbconvert_exporter": "python",
   "pygments_lexer": "ipython3",
   "version": "3.11.7"
  },
  "toc-showtags": false
 },
 "nbformat": 4,
 "nbformat_minor": 5
}
